{
 "cells": [
  {
   "cell_type": "markdown",
   "metadata": {},
   "source": [
    "# Preamble"
   ]
  },
  {
   "cell_type": "code",
   "execution_count": null,
   "metadata": {},
   "outputs": [],
   "source": [
    "%load_ext autoreload\n",
    "%autoreload 2\n",
    "\n",
    "%matplotlib inline\n",
    "\n",
    "# disable parallelization for BLAS and co. (makes t-SNE run faster)\n",
    "from corals.threads import set_threads_for_external_libraries\n",
    "set_threads_for_external_libraries(n_threads=8)\n",
    "\n",
    "# general\n",
    "import re\n",
    "import collections\n",
    "import pickle\n",
    "import warnings \n",
    "import joblib\n",
    "import pathlib\n",
    "\n",
    "# data\n",
    "import numpy as np\n",
    "import pandas as pd\n",
    "\n",
    "# ml / stats\n",
    "import sklearn\n",
    "import sklearn.manifold\n",
    "import statsmodels.stats.multitest\n",
    "import scipy.stats\n",
    "\n",
    "# plotting\n",
    "import seaborn as sns\n",
    "import matplotlib.pyplot as plt\n",
    "\n",
    "\n",
    "# init matplotlib defaults\n",
    "import matplotlib\n",
    "matplotlib.rcParams['figure.facecolor'] = 'white'"
   ]
  },
  {
   "cell_type": "code",
   "execution_count": null,
   "metadata": {},
   "outputs": [],
   "source": [
    "import sklearn.manifold\n",
    "import sklearn.impute\n",
    "import sklearn.pipeline"
   ]
  },
  {
   "cell_type": "code",
   "execution_count": null,
   "metadata": {},
   "outputs": [],
   "source": [
    "import corals.correlation.utils\n",
    "from corals.correlation.topkdiff.original import topkdiff_matrix "
   ]
  },
  {
   "cell_type": "markdown",
   "metadata": {},
   "source": [
    "# Sub figures "
   ]
  },
  {
   "cell_type": "code",
   "execution_count": null,
   "metadata": {},
   "outputs": [],
   "source": [
    "np.random.seed(42)\n",
    "path = pathlib.Path(\"../_out/figures/figure1\")\n",
    "path.mkdir(parents=True, exist_ok=True)"
   ]
  },
  {
   "cell_type": "code",
   "execution_count": null,
   "metadata": {},
   "outputs": [],
   "source": [
    "a = np.random.random((3,30)) - 0.5\n",
    "b = np.random.random((3,30)) - 0.5"
   ]
  },
  {
   "cell_type": "code",
   "execution_count": null,
   "metadata": {},
   "outputs": [],
   "source": [
    "colors = sns.color_palette(n_colors=a.shape[1])"
   ]
  },
  {
   "cell_type": "code",
   "execution_count": null,
   "metadata": {},
   "outputs": [],
   "source": [
    "x1 = np.array([0.05, 0.15, 0])\n",
    "y1 = np.array([0.5, 0.4, 0])\n",
    "\n",
    "x2 = np.array([0.3, 0.3,0])\n",
    "# x2 = np.array([0.05, 0.15, 0])\n",
    "y2 = np.array([0.4, -0.2, 0]) * 0.7"
   ]
  },
  {
   "cell_type": "code",
   "execution_count": null,
   "metadata": {},
   "outputs": [],
   "source": [
    "fig, ax = plt.subplots(1,1, figsize=(4,4))\n",
    "\n",
    "ax.scatter(a[0,:],a[1,:], c=colors[0], alpha=0.5)\n",
    "ax.scatter(b[0,:],b[1,:], c=colors[1], alpha=0.5)\n",
    "\n",
    "ax.plot([0,x1[0]], [0,x1[1]], c=colors[0], linestyle=\"-\", linewidth=2)\n",
    "ax.plot([0,y1[0]], [0,y1[1]], c=colors[0], linestyle=\"-\", linewidth=2)\n",
    "ax.plot([x1[0]], [x1[1]], c=colors[0], marker=\"x\", mew=5, ms=10)\n",
    "ax.plot([y1[0]], [y1[1]], c=colors[0], marker=\"s\", mew=5, ms=5)\n",
    "\n",
    "ax.plot([0,x2[0]], [0,x2[1]], c=colors[1], linestyle=\"-\", linewidth=2)\n",
    "ax.plot([0,y2[0]], [0,y2[1]], c=colors[1], linestyle=\"-\", linewidth=2)\n",
    "ax.plot([x2[0]], [x2[1]], c=colors[1], marker=\"x\", mew=5, ms=10)\n",
    "ax.plot([y2[0]], [y2[1]], c=colors[1], marker=\"s\", mew=5, ms=5)\n",
    "\n",
    "ax.plot([0], [0], marker=\"x\", mew=5, ms=10, c=\"black\")\n",
    "ax.axis(\"off\")\n",
    "\n",
    "fig.savefig(path / \"fig1_features.svg\")\n",
    "pass"
   ]
  },
  {
   "cell_type": "code",
   "execution_count": null,
   "metadata": {},
   "outputs": [],
   "source": [
    "ap = corals.correlation.utils.preprocess_X(a)\n",
    "bp = corals.correlation.utils.preprocess_X(b)"
   ]
  },
  {
   "cell_type": "code",
   "execution_count": null,
   "metadata": {},
   "outputs": [],
   "source": [
    "x1p = corals.correlation.utils.preprocess_X(x1.reshape(-1,1)).flatten()\n",
    "y1p = corals.correlation.utils.preprocess_X(y1.reshape(-1,1)).flatten()\n",
    "\n",
    "x2p = corals.correlation.utils.preprocess_X(x2.reshape(-1,1)).flatten()\n",
    "y2p = corals.correlation.utils.preprocess_X(y2.reshape(-1,1)).flatten()"
   ]
  },
  {
   "cell_type": "code",
   "execution_count": null,
   "metadata": {},
   "outputs": [],
   "source": [
    "fig, ax = plt.subplots(1,1)\n",
    "\n",
    "ax.scatter(ap[0,:],ap[1,:], c=colors[0], alpha=0.3)\n",
    "ax.scatter(bp[0,:],bp[1,:], c=colors[1], alpha=0.3)\n",
    "\n",
    "ax.plot([0,x1p[0]], [0,x1p[1]], c=colors[0], linestyle=\"-\", linewidth=2)\n",
    "ax.plot([0,y1p[0]], [0,y1p[1]], c=colors[0], linestyle=\"-\", linewidth=2)\n",
    "ax.plot([x1p[0]], [x1p[1]], c=colors[0], marker=\"x\", mew=5, ms=10)\n",
    "ax.plot([y1p[0]], [y1p[1]], c=colors[0], marker=\"s\", mew=5, ms=5)\n",
    "\n",
    "ax.plot([0,x2p[0]], [0,x2p[1]], c=colors[1], linestyle=\"-\", linewidth=2)\n",
    "ax.plot([0,y2p[0]], [0,y2p[1]], c=colors[1], linestyle=\"-\", linewidth=2)\n",
    "ax.plot([x2p[0]], [x2p[1]], c=colors[1], marker=\"x\", mew=5, ms=10)\n",
    "ax.plot([y2p[0]], [y2p[1]], c=colors[1], marker=\"s\", mew=5, ms=5)\n",
    "\n",
    "ax.plot([0], [0], marker=\"x\", mew=5, ms=10, c=\"black\")\n",
    "ax.axis(\"off\")\n",
    "\n",
    "ax.fill(\n",
    "    [0,x1p[0],x1p[0]+y1p[0],y1p[0]],\n",
    "    [0,x1p[1],x1p[1]+y1p[1],y1p[1]],\n",
    "    color=\"grey\",\n",
    "    alpha=0.2\n",
    ")\n",
    "\n",
    "ax.fill(\n",
    "    [0,x2p[0],x2p[0]+y2p[0],y2p[0]],\n",
    "    [0,x2p[1],x2p[1]+y2p[1],y2p[1]],\n",
    "    color=\"grey\",\n",
    "    alpha=0.2\n",
    ")\n",
    "\n",
    "fig.savefig(path / \"fig1_cor-space.svg\")\n",
    "\n",
    "\n",
    "pass"
   ]
  },
  {
   "cell_type": "code",
   "execution_count": null,
   "metadata": {},
   "outputs": [],
   "source": [
    "ab = np.concatenate([ap,bp], axis=0)\n",
    "abn = np.concatenate([ap,-bp], axis=0)"
   ]
  },
  {
   "cell_type": "code",
   "execution_count": null,
   "metadata": {},
   "outputs": [],
   "source": [
    "x12 = np.concatenate([x1,x2])\n",
    "y12 = np.concatenate([y1,-y2])"
   ]
  },
  {
   "cell_type": "code",
   "execution_count": null,
   "metadata": {},
   "outputs": [],
   "source": [
    "from mpl_toolkits.mplot3d.art3d import Poly3DCollection"
   ]
  },
  {
   "cell_type": "code",
   "execution_count": null,
   "metadata": {},
   "outputs": [],
   "source": [
    "def format_ax(ax):\n",
    "    \n",
    "    ax.w_xaxis.pane.set_color('w');\n",
    "    ax.w_yaxis.pane.set_color('w');\n",
    "    ax.w_zaxis.pane.set_color('w');\n",
    "\n",
    "    ax.w_xaxis.line.set_color((1.0, 1.0, 1.0, 0.0))\n",
    "    ax.w_yaxis.line.set_color((1.0, 1.0, 1.0, 0.0))\n",
    "    ax.w_zaxis.line.set_color((1.0, 1.0, 1.0, 0.0))\n",
    "\n",
    "    ax.set_xticklabels([])\n",
    "    ax.set_yticklabels([])\n",
    "    ax.set_zticklabels([])\n",
    "\n",
    "    for line in ax.xaxis.get_ticklines():\n",
    "        line.set_color((1.0, 1.0, 1.0, 0.0))\n",
    "    for line in ax.yaxis.get_ticklines():\n",
    "        line.set_color((1.0, 1.0, 1.0, 0.0))\n",
    "    for line in ax.zaxis.get_ticklines():\n",
    "        line.set_color((1.0, 1.0, 1.0, 0.0))\n",
    "\n",
    "\n",
    "    ax.xaxis._axinfo[\"grid\"]['color'] = (0, 0, 0, .1)\n",
    "    ax.yaxis._axinfo[\"grid\"]['color'] = (0, 0, 0, .1)\n",
    "    ax.zaxis._axinfo[\"grid\"]['color'] = (0, 0, 0, .1)"
   ]
  },
  {
   "cell_type": "code",
   "execution_count": null,
   "metadata": {},
   "outputs": [],
   "source": [
    "fig = plt.figure(figsize=(8,8))\n",
    "ax = fig.add_subplot(111, projection='3d')\n",
    "ax.plot([0], [0], [0], marker=\"x\", mew=5, ms=10, c=\"black\")\n",
    "\n",
    "c1, c2, c3 = 0,1,4\n",
    "# c1, c2, c3 = 0,4,3\n",
    "\n",
    "ax.scatter(ab[c1,:],ab[c2,:],ab[c3,:], c=\"grey\",s=50)\n",
    "for i in range(ab.shape[1]):\n",
    "    ax.plot([0,ab[c1,i]],[0,ab[c2,i]],[0,ab[c3,i]], c=\"grey\", alpha=0.3)\n",
    "    \n",
    "ax.scatter(abn[c1,:],abn[c2,:],abn[c3,:], c=\"grey\",s=50)\n",
    "for i in range(abn.shape[1]):\n",
    "    ax.plot([0,abn[c1,i]],[0,abn[c2,i]],[0,abn[c3,i]], c=\"grey\", alpha=0.3, linestyle=\"--\")\n",
    "\n",
    "ax.plot([x12[c1]],[x12[c2]],[x12[c3]], c=\"black\", marker=\"x\", mew=5, ms=10)\n",
    "ax.plot([0, x12[c1]],[0,x12[c2]],[0,x12[c3]], c=\"black\", linewidth=2)\n",
    "\n",
    "ax.plot([y12[c1]],[y12[c2]],[y12[c3]], c=\"black\", marker=\"s\", mew=2.5, ms=10)\n",
    "ax.plot([0, y12[c1]],[0,y12[c2]],[0,y12[c3]], c=\"black\", linestyle=\"--\")\n",
    "\n",
    "X=np.array([0, x12[c1], x12[c1] + y12[c1]]) \n",
    "Y=np.array([0, x12[c2], x12[c2] + y12[c2]])\n",
    "Z=np.array([0, x12[c3], x12[c3] + y12[c3]])\n",
    "verts = list(zip(X,Y,Z))\n",
    "ax.add_collection3d(Poly3DCollection(verts, alpha=0.5, color=colors[0]), zs=Z)\n",
    "\n",
    "X=np.array([0, y12[c1], x12[c1] + y12[c1]]) \n",
    "Y=np.array([0, y12[c2], x12[c2] + y12[c2]])\n",
    "Z=np.array([0, y12[c3], x12[c3] + y12[c3]])\n",
    "verts = list(zip(X,Y,Z))\n",
    "ax.add_collection3d(Poly3DCollection(verts, alpha=0.5, color=colors[1]), zs=Z)\n",
    "    \n",
    "format_ax(ax)\n",
    "# ax.axis(\"off\")\n",
    "\n",
    "fig.savefig(path / \"fig1_cor-space-diff.svg\")"
   ]
  },
  {
   "cell_type": "code",
   "execution_count": null,
   "metadata": {},
   "outputs": [],
   "source": [
    "print(\"tsne\")\n",
    "tsne = sklearn.manifold.TSNE(n_components=2, perplexity=5, random_state=45)\n",
    "e = tsne.fit_transform(ap.transpose())\n",
    "\n",
    "print(\"corr\")\n",
    "c = ap.transpose() @ ap\n"
   ]
  },
  {
   "cell_type": "code",
   "execution_count": null,
   "metadata": {},
   "outputs": [],
   "source": [
    "fig, ax = plt.subplots(1,1, figsize=(4,4))\n",
    "\n",
    "print(\"edges\")\n",
    "for i in range(c.shape[0]):\n",
    "    for j in range(c.shape[1]):\n",
    "        if i < j:\n",
    "            cc = (np.abs(c[i,j]) + 1) / 2\n",
    "            ax.plot([e[i,0], e[j,0]], [e[i,1], e[j,1]], linewidth=cc, c=\"grey\", alpha=cc**10)\n",
    "\n",
    "print(\"points\")\n",
    "ax.scatter(e[:,0], e[:,1], zorder=100, s=70)\n",
    "ax.axis(\"off\")\n",
    "fig.savefig(path / \"fig1_network_a.svg\")\n",
    "            \n",
    "pass"
   ]
  },
  {
   "cell_type": "code",
   "execution_count": null,
   "metadata": {},
   "outputs": [],
   "source": [
    "print(\"corr\")\n",
    "from corals.correlation.topk.baselines import topk_full_corrcoef as topk_matrix \n",
    "\n",
    "ctop, idx = topk_matrix(a,k=a.shape[1]**2 * 0.15)\n",
    "\n",
    "\n",
    "fig, ax = plt.subplots(1,1, figsize=(4,4))\n",
    "\n",
    "print(\"edges\")\n",
    "for cor,(i,j) in zip(*[ctop,zip(*idx)]):\n",
    "#     print(cor, i, j)\n",
    "    if i < j:\n",
    "        cc = (np.abs(cor) + 1) / 2\n",
    "        ax.plot([e[i,0], e[j,0]], [e[i,1], e[j,1]], linewidth=cc, c=\"grey\", alpha=cc**10)\n",
    "\n",
    "print(\"points\")\n",
    "ax.scatter(e[:,0], e[:,1], zorder=100, s=70)\n",
    "ax.axis(\"off\")\n",
    "    \n",
    "fig.savefig(path / \"fig1_network_a_topk.svg\")\n",
    "    \n",
    "pass"
   ]
  },
  {
   "cell_type": "code",
   "execution_count": null,
   "metadata": {},
   "outputs": [],
   "source": [
    "print(\"corr\")\n",
    "c2 = bp.transpose() @ bp\n",
    "\n",
    "fig, ax = plt.subplots(1,1, figsize=(4,4))\n",
    "\n",
    "print(\"edges\")\n",
    "for i in range(c.shape[0]):\n",
    "    for j in range(c.shape[1]):\n",
    "        if i < j:\n",
    "            cc = (np.abs(c2[i,j]) + 1) / 2\n",
    "            ax.plot([e[i,0], e[j,0]], [e[i,1], e[j,1]], linewidth=cc, c=\"grey\", alpha=cc**10)\n",
    "\n",
    "print(\"points\")\n",
    "ax.scatter(e[:,0], e[:,1], zorder=100, s=70, color=colors[1])\n",
    "ax.axis(\"off\")\n",
    "            \n",
    "\n",
    "fig.savefig(path / \"fig1_network_b.svg\")\n",
    "    \n",
    "pass"
   ]
  },
  {
   "cell_type": "code",
   "execution_count": null,
   "metadata": {},
   "outputs": [],
   "source": [
    "print(\"corr\")\n",
    "cdiff, idx = topkdiff_matrix(a,b,k=a.shape[1]**2 * 0.05)\n",
    "\n",
    "\n",
    "fig, ax = plt.subplots(1,1, figsize=(4,4))\n",
    "\n",
    "print(\"edges\")\n",
    "for cor,(i,j) in zip(*[cdiff,zip(*idx)]):\n",
    "#     print(cor, i, j)\n",
    "    if i < j:\n",
    "        cc = (np.abs(cor) + 1) / 2\n",
    "        ax.plot([e[i,0], e[j,0]], [e[i,1], e[j,1]], linewidth=cc, c=\"red\", alpha=0.5)\n",
    "#         ax.plot([e[i,0], e[j,0]], [e[i,1], e[j,1]], linewidth=cc, c=\"red\", alpha=cc**10)\n",
    "\n",
    "print(\"points\")\n",
    "ax.scatter(e[:,0], e[:,1], zorder=100, s=70, c=\"grey\")\n",
    "ax.axis(\"off\")\n",
    "\n",
    "fig.savefig(path / \"fig1_network_diff.svg\")\n",
    "\n",
    "pass"
   ]
  },
  {
   "cell_type": "code",
   "execution_count": null,
   "metadata": {},
   "outputs": [],
   "source": []
  }
 ],
 "metadata": {
  "kernelspec": {
   "display_name": "Python 3",
   "language": "python",
   "name": "python3"
  },
  "language_info": {
   "codemirror_mode": {
    "name": "ipython",
    "version": 3
   },
   "file_extension": ".py",
   "mimetype": "text/x-python",
   "name": "python",
   "nbconvert_exporter": "python",
   "pygments_lexer": "ipython3",
   "version": "3.9.1"
  }
 },
 "nbformat": 4,
 "nbformat_minor": 4
}
