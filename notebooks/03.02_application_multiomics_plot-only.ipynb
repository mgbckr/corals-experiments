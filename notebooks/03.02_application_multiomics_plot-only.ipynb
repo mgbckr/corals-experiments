{
 "cells": [
  {
   "cell_type": "markdown",
   "metadata": {},
   "source": [
    "# Preamble"
   ]
  },
  {
   "cell_type": "markdown",
   "metadata": {},
   "source": [
    "This code produces the multiomics related figure in the main text for illustrating applications of our method. \n",
    "\n",
    "**Note:** This is a condensed version of `03.01_application_multiomics.ipynb` using cached data that is provided in the manuscript for convenience. To use the provided data see the `README.md`. To produce the cached data, run both `02_application_multiomics_prepare-embeddings.ipynb` and `03.01_application_multiomics.ipynb`."
   ]
  },
  {
   "cell_type": "code",
   "execution_count": null,
   "metadata": {
    "tags": []
   },
   "outputs": [],
   "source": [
    "notebook_name = \"application___multiomics\""
   ]
  },
  {
   "cell_type": "markdown",
   "metadata": {},
   "source": [
    "# Imports"
   ]
  },
  {
   "cell_type": "code",
   "execution_count": null,
   "metadata": {
    "tags": []
   },
   "outputs": [],
   "source": [
    "%load_ext autoreload\n",
    "%autoreload 2\n",
    "%matplotlib inline\n",
    "\n",
    "\n",
    "# # disable parallelization for BLAS and co.\n",
    "# from corals.threads import set_threads_for_external_libraries\n",
    "# set_threads_for_external_libraries(n_threads=16)\n",
    "\n",
    "# general\n",
    "import re\n",
    "import collections\n",
    "import pickle\n",
    "import warnings \n",
    "import joblib\n",
    "import pathlib\n",
    "\n",
    "# data\n",
    "import numpy as np\n",
    "import pandas as pd\n",
    "import h5py\n",
    "\n",
    "# ml / stats\n",
    "import sklearn\n",
    "import scipy.stats\n",
    "\n",
    "# plotting\n",
    "import matplotlib.pyplot as plt\n",
    "\n",
    "# init matplotlib defaults\n",
    "import matplotlib\n",
    "matplotlib.rcParams['figure.facecolor'] = 'white'"
   ]
  },
  {
   "cell_type": "code",
   "execution_count": null,
   "metadata": {
    "tags": []
   },
   "outputs": [],
   "source": [
    "%run -m rpy2.situation"
   ]
  },
  {
   "cell_type": "code",
   "execution_count": null,
   "metadata": {
    "tags": []
   },
   "outputs": [],
   "source": [
    "import sklearn.manifold\n",
    "import sklearn.impute\n",
    "import sklearn.pipeline"
   ]
  },
  {
   "cell_type": "code",
   "execution_count": null,
   "metadata": {
    "tags": []
   },
   "outputs": [],
   "source": [
    "from matplotlib.collections import LineCollection"
   ]
  },
  {
   "cell_type": "code",
   "execution_count": null,
   "metadata": {
    "tags": []
   },
   "outputs": [],
   "source": [
    "import coralsarticle.data.applications.multiomics\n",
    "from coralsarticle.data.utils import preprocess\n",
    "from corals.correlation.utils import preprocess_X"
   ]
  },
  {
   "cell_type": "code",
   "execution_count": null,
   "metadata": {
    "tags": []
   },
   "outputs": [],
   "source": [
    "import corals.correlation.topk\n",
    "import corals.correlation.topkdiff\n",
    "\n",
    "from corals.correlation.topk.default import cor_topk\n",
    "from corals.correlation.topkdiff.default import cor_topkdiff"
   ]
  },
  {
   "cell_type": "code",
   "execution_count": null,
   "metadata": {
    "tags": []
   },
   "outputs": [],
   "source": [
    "import matplotlib.patches as mpatches\n",
    "import matplotlib.pyplot as plt \n",
    "from matplotlib.lines import Line2D"
   ]
  },
  {
   "cell_type": "markdown",
   "metadata": {},
   "source": [
    "# Load data"
   ]
  },
  {
   "cell_type": "code",
   "execution_count": null,
   "metadata": {},
   "outputs": [],
   "source": [
    "def get_file(file_name, out_dir=f\"../_out/{notebook_name}\"):\n",
    "    out_dir = pathlib.Path(out_dir)\n",
    "    out_dir.mkdir(parents=True, exist_ok=True)\n",
    "    return out_dir / file_name"
   ]
  },
  {
   "cell_type": "code",
   "execution_count": null,
   "metadata": {},
   "outputs": [],
   "source": [
    "feature_groups = sorted(coralsarticle.data.applications.multiomics.pregnancy_multiomics_subset_info.keys())\n",
    "pregnancy_multiomics_subset_info = coralsarticle.data.applications.multiomics.pregnancy_multiomics_subset_info"
   ]
  },
  {
   "cell_type": "code",
   "execution_count": null,
   "metadata": {},
   "outputs": [],
   "source": [
    "with open(get_file(\"plot_adj1.pickle\"), \"rb\") as f:\n",
    "    adj1 = pickle.load(f)"
   ]
  },
  {
   "cell_type": "code",
   "execution_count": null,
   "metadata": {},
   "outputs": [],
   "source": [
    "with open(get_file(\"plot_adj1_diff34.pickle\"), \"rb\") as f:\n",
    "    adj1_diff34 = pickle.load(f)"
   ]
  },
  {
   "cell_type": "code",
   "execution_count": null,
   "metadata": {},
   "outputs": [],
   "source": [
    "# load embeddings\n",
    "\n",
    "path = pathlib.Path(\"../_out/application___multiomics___prepare-embeddings\")\n",
    "prefix = \"embedding___data_pregnancy___preprocessing_neg_n2___cor-spearman-direct___algorithm_tsne_v2___\"\n",
    "\n",
    "embeddings = []\n",
    "select_embeddings = []\n",
    "runtimes = []\n",
    "\n",
    "for i_fg, feature_group in enumerate(feature_groups):\n",
    "#     print(prefix, feature_group)\n",
    "    \n",
    "    filename = f\"{prefix}featuregroup_{feature_group}.h5\"\n",
    "    print(filename)\n",
    "    \n",
    "    with h5py.File(path / filename, \"r\") as f:\n",
    "        embeddings.append(f[\"embedding\"][:])\n",
    "        select_embeddings.append(f[\"mask\"][:])\n",
    "        runtimes.append(f[\"time\"][()])"
   ]
  },
  {
   "cell_type": "code",
   "execution_count": null,
   "metadata": {},
   "outputs": [],
   "source": [
    "embeddings_merged = np.concatenate(embeddings)\n",
    "e_max = np.max(np.abs(embeddings_merged), axis=0)\n",
    "embeddings_max = [np.max(np.abs(e), axis=0) for e in embeddings]\n",
    "embeddings_merged.shape"
   ]
  },
  {
   "cell_type": "markdown",
   "metadata": {},
   "source": [
    "# Functions and variables"
   ]
  },
  {
   "cell_type": "code",
   "execution_count": null,
   "metadata": {},
   "outputs": [],
   "source": [
    "group_offsets = [\n",
    "    (3,0),          # cellfre rna\n",
    "    (-1.5,-2.5),    # immune system\n",
    "    (-3,0),         # metabolomics\n",
    "    (0,3),          # microbiome\n",
    "    (2.5,2.5),      # plasma_luminex\n",
    "    (-2.5,2.5),     # plasma_somalogic\n",
    "    (1.5,-2.5)]     # serum_luminex\n",
    "\n",
    "group_scaling = [\n",
    "    1, # cellfre rna\n",
    "    1, # immune system\n",
    "    1, # metabolomics\n",
    "    1, # microbiome\n",
    "    0.5, # plasma_luminex\n",
    "    1, # plasma_somalogic\n",
    "    0.5  # serum_luminex\n",
    "]"
   ]
  },
  {
   "cell_type": "code",
   "execution_count": null,
   "metadata": {},
   "outputs": [],
   "source": [
    "nodes_style1=dict(\n",
    "    linewidths=0,\n",
    "    s=0.5)\n",
    "\n",
    "nodes_style2=dict(\n",
    "    linewidths=0,\n",
    "    s=1)\n",
    "\n",
    "edges_style_single =dict(\n",
    "    color=\"grey\",\n",
    "    alpha=0.05,\n",
    "    linewidth=0.01)\n",
    "\n",
    "edges_style4_under =dict(\n",
    "    color=\"silver\",\n",
    "    alpha=0.5,\n",
    "    linewidth=0.01)\n",
    "\n",
    "edges_style4_over =dict(\n",
    "    color=[0.2] * 3,\n",
    "    alpha=0.05,\n",
    "    linewidth=0.02)"
   ]
  },
  {
   "cell_type": "code",
   "execution_count": null,
   "metadata": {},
   "outputs": [],
   "source": [
    "def init_kwargs(kwargs, **defaults):\n",
    "\n",
    "    if defaults is None:\n",
    "        defaults = dict()\n",
    "\n",
    "    if kwargs is not None:\n",
    "        return {**defaults, **kwargs}\n",
    "    else:\n",
    "        return defaults"
   ]
  },
  {
   "cell_type": "code",
   "execution_count": null,
   "metadata": {},
   "outputs": [],
   "source": [
    "def draw_edges(edges, ax=None, verbose=0, **edges_kwargs):\n",
    "    \n",
    "    if ax is None:\n",
    "        ax = plt.gca()\n",
    "    \n",
    "    msk_offsets = np.insert(np.cumsum([len(e) for e in select_embeddings]), 0,0)\n",
    "    \n",
    "    for i_rg, row_group in enumerate(feature_groups): \n",
    "\n",
    "        if verbose > 0:\n",
    "            print(row_group)\n",
    "\n",
    "        # prepare embeddings\n",
    "\n",
    "        e_rg = embeddings[i_rg].copy()\n",
    "\n",
    "        # normalize embeddings\n",
    "        e_rg[:,0] = e_rg[:,0] / embeddings_max[i_rg][0] * group_scaling[i_rg] + group_offsets[i_rg][0]\n",
    "        e_rg[:,1] = e_rg[:,1] / embeddings_max[i_rg][1] * group_scaling[i_rg] + group_offsets[i_rg][1]\n",
    "\n",
    "        msk_rows = np.zeros(edges.shape[1], dtype=bool)\n",
    "        msk_rows[msk_offsets[i_rg]:msk_offsets[i_rg + 1]] = select_embeddings[i_rg]\n",
    "\n",
    "        edges_rows = edges[msk_rows, :]\n",
    "\n",
    "        for i_cg, col_group in enumerate(feature_groups): \n",
    "\n",
    "            if i_cg < i_rg:\n",
    "                if verbose > 1:\n",
    "                    print(\"  *\", col_group)\n",
    "\n",
    "                e_cg = embeddings[i_cg].copy()\n",
    "                e_cg[:,0] = e_cg[:,0] / embeddings_max[i_cg][0] * group_scaling[i_cg] + group_offsets[i_cg][0]\n",
    "                e_cg[:,1] = e_cg[:,1] / embeddings_max[i_cg][1] * group_scaling[i_cg] + group_offsets[i_cg][1]\n",
    "\n",
    "                if verbose > 2:\n",
    "                    print(f\"    * row vars: {e_rg.shape[0]:10d} / {embeddings[i_rg].shape[0]:10d}\")\n",
    "                    print(f\"    * col vars: {e_cg.shape[0]:10d} / {embeddings[i_cg].shape[0]:10d}\")\n",
    "\n",
    "                msk_cols = np.zeros(edges.shape[1], dtype=bool)\n",
    "                msk_cols[msk_offsets[i_cg]:msk_offsets[i_cg + 1]] = select_embeddings[i_cg]\n",
    "\n",
    "                edges_rows_cols = edges_rows[:, msk_cols]\n",
    "\n",
    "                # coordinates for edges\n",
    "                coo_rg = np.repeat(e_rg, e_cg.shape[0], axis=0)\n",
    "                coo_cg = np.tile(e_cg.transpose(), e_rg.shape[0]).transpose()\n",
    "                coo = np.swapaxes(np.stack((coo_rg, coo_cg), axis=2), -1, -2)\n",
    "\n",
    "                coo = coo[edges_rows_cols.astype(bool).A.flatten()]\n",
    "\n",
    "                if verbose > 2:\n",
    "                    print(\"    * draw\")\n",
    "\n",
    "                line_collection = LineCollection(\n",
    "                    coo,\n",
    "                    **init_kwargs(\n",
    "                        edges_kwargs, \n",
    "                        color=\"grey\",\n",
    "                        alpha=0.1,\n",
    "                        linewidth=0.5)\n",
    "                    )\n",
    "                \n",
    "                ax.add_collection(line_collection)\n",
    "\n",
    "#             if i_cg > 1:\n",
    "#                 break\n",
    "\n",
    "#         if i_rg > 1:\n",
    "#             break\n",
    "            \n",
    "        if verbose > 0:\n",
    "            print()"
   ]
  },
  {
   "cell_type": "code",
   "execution_count": null,
   "metadata": {},
   "outputs": [],
   "source": [
    "def draw_network(edges=None, draw_legend=False, verbose=0, nodes_style=None, edges_style=None, ax=None):\n",
    "    \n",
    "    if ax is None:\n",
    "        ax = plt.gca()\n",
    "    \n",
    "    # draw edges\n",
    "    if edges is not None:\n",
    "        \n",
    "        if not isinstance(edges, list):\n",
    "            edges = [edges]\n",
    "        \n",
    "        if edges_style is None:\n",
    "            edges_style = [{}]\n",
    "        else:\n",
    "            if not isinstance(edges_style, list):\n",
    "                edges_style = [edges_style] * len(edges)\n",
    "                \n",
    "        for i, (e, s) in enumerate(zip(edges, edges_style)):\n",
    "            draw_edges(e, ax=ax, zorder=-1000 + i, **s)\n",
    "    \n",
    "    if verbose > 2:\n",
    "        print(\"plot nodes\")\n",
    "        \n",
    "    \n",
    "    if nodes_style is None:\n",
    "        nodes_style = {}\n",
    "    if not isinstance(nodes_style, list):\n",
    "        nodes_style = [nodes_style] * len(fg)\n",
    "        \n",
    "    for i_fg, feature_group in enumerate(feature_groups): \n",
    "        color = pregnancy_multiomics_subset_info[feature_group][\"color\"]\n",
    "        e = embeddings[i_fg].copy()\n",
    "        e[:,0] = e[:,0] / embeddings_max[i_fg][0] * group_scaling[i_fg] + group_offsets[i_fg][0]\n",
    "        e[:,1] = e[:,1] / embeddings_max[i_fg][1] * group_scaling[i_fg] + group_offsets[i_fg][1]\n",
    "\n",
    "        ax.scatter(\n",
    "            e[:,0], e[:,1], \n",
    "            **init_kwargs(\n",
    "                nodes_style[i_fg], \n",
    "                s=50 if draw_legend else 1, \n",
    "                label=feature_group, \n",
    "                zorder=-100, \n",
    "                c=color))\n",
    "\n",
    "    if draw_legend:\n",
    "        ax.legend()\n",
    "    \n",
    "    ax.axis(\"off\");\n",
    "    if verbose > 2:\n",
    "        print(\"finalizing figure\")"
   ]
  },
  {
   "cell_type": "markdown",
   "metadata": {},
   "source": [
    "# Plotting"
   ]
  },
  {
   "cell_type": "code",
   "execution_count": null,
   "metadata": {},
   "outputs": [],
   "source": [
    "%%time\n",
    "fig, ax = plt.subplots(1,1, figsize=(4,3), dpi=300)\n",
    "draw_network(\n",
    "    nodes_style=[nodes_style1] * 1 + [nodes_style2] * 6,\n",
    "    edges=[adj1, adj1_diff34],\n",
    "    edges_style=[edges_style4_under, edges_style4_over],\n",
    "    ax=ax)\n",
    "ax.set_rasterization_zorder(-1)\n",
    "\n",
    "# first legend ()\n",
    "patchList = []\n",
    "for fg in feature_groups:\n",
    "        data_key = Line2D(\n",
    "            [0], [0], marker=\"o\",  color=(1,1,1,0), lw=1, markeredgewidth=.5,\n",
    "            markerfacecolor=pregnancy_multiomics_subset_info[fg][\"color\"], \n",
    "            label=pregnancy_multiomics_subset_info[fg][\"name_full\"], \n",
    "            markersize=5)\n",
    "        patchList.append(data_key)\n",
    "\n",
    "# second legend ()\n",
    "patchList2 = []\n",
    "patchList2.append(Line2D(\n",
    "    [0], [0], markerfacecolor=(1,1,1,0), \n",
    "    color=(0.5,0.5,0.5,1), lw=0.5, label=\"Correlations at 3rd trimester\"))\n",
    "patchList2.append(Line2D(\n",
    "    [0], [0], markerfacecolor=(1,1,1,0), \n",
    "    color=(0,0,0,1), lw=1, label=\"Modified correlations after birth\"))\n",
    "\n",
    "legend1 = ax.legend(handles=patchList2, loc=(0.75,0.87), frameon=False, fontsize=5)\n",
    "legend1.set_zorder(102)\n",
    "\n",
    "ax.legend(handles=patchList, loc=(0.75,0.03), frameon=False, fontsize=5).set_zorder(102)\n",
    "ax.add_artist(legend1)\n",
    "\n",
    "# fig.savefig(\n",
    "#     get_file(\"multiomics_pregnancy_t3_with-legend.pdf\", out_dir=\"../_out/figures\"), \n",
    "#     bbox_inches='tight')"
   ]
  }
 ],
 "metadata": {
  "kernelspec": {
   "display_name": "Python 3",
   "language": "python",
   "name": "python3"
  },
  "language_info": {
   "codemirror_mode": {
    "name": "ipython",
    "version": 3
   },
   "file_extension": ".py",
   "mimetype": "text/x-python",
   "name": "python",
   "nbconvert_exporter": "python",
   "pygments_lexer": "ipython3",
   "version": "3.9.1"
  },
  "toc-autonumbering": true
 },
 "nbformat": 4,
 "nbformat_minor": 4
}
