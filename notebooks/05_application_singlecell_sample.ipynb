{
 "cells": [
  {
   "cell_type": "markdown",
   "metadata": {},
   "source": [
    "# General parameters"
   ]
  },
  {
   "cell_type": "code",
   "execution_count": null,
   "metadata": {
    "tags": [
     "parameters"
    ]
   },
   "outputs": [],
   "source": [
    "prefix = \"test\"\n",
    "\n",
    "cell_type_selection = \"filter\"\n",
    "\n",
    "n_samples = 10\n",
    "sampling_scheme = \"double-replacement\"\n",
    "n_sampled_cells_per_celltype = 1000  # for top-k calculation\n",
    "\n",
    "n_samples_deque = 3  # how many raw samples are retained (data in addition to stats)\n",
    "\n",
    "topk_target = \"combined\"  # phenotype, function, or combined\n",
    "topk_ratio = 0.001\n",
    "\n",
    "n_topk_stats_bins = 201\n",
    "\n",
    "n_max_cells_emb = 100  # for visualization \n",
    "\n",
    "n_threads = 64\n",
    "n_jobs_topk = 64\n",
    "n_jobs_fcs = 64\n"
   ]
  },
  {
   "cell_type": "code",
   "execution_count": null,
   "metadata": {
    "tags": []
   },
   "outputs": [],
   "source": [
    "# # Parameters\n",
    "\n",
    "# prefix = \"v1\"\n",
    "\n",
    "# cell_type_selection = \"filter\"\n",
    "\n",
    "# n_samples = 100\n",
    "# sampling_scheme = \"double-replacement\"\n",
    "# n_sampled_cells_per_celltype = 10000  # for top-k calculation\n",
    "# topk_ratio = 0.0001  # 0.01%\n",
    "\n",
    "# n_max_cells_emb = 1000  # for visualization "
   ]
  },
  {
   "cell_type": "code",
   "execution_count": null,
   "metadata": {},
   "outputs": [],
   "source": [
    "# # Parameters\n",
    "\n",
    "# prefix = \"function_v3\"\n",
    "\n",
    "# cell_type_selection = \"filter\"\n",
    "\n",
    "# n_samples = 100\n",
    "# sampling_scheme = \"double-replacement\"\n",
    "# n_sampled_cells_per_celltype = 10000  # for top-k calculation\n",
    "# topk_target = \"function\"  # 0.01%\n",
    "# topk_ratio = 0.0001  # 0.01%\n",
    "\n",
    "# n_max_cells_emb = 1000  # for visualization "
   ]
  },
  {
   "cell_type": "code",
   "execution_count": null,
   "metadata": {},
   "outputs": [],
   "source": [
    "# Parameters\n",
    "\n",
    "prefix = \"function1000_v3\"\n",
    "\n",
    "cell_type_selection = \"filter\"\n",
    "\n",
    "n_samples = 1000\n",
    "sampling_scheme = \"double-replacement\"\n",
    "n_sampled_cells_per_celltype = 10000  # for top-k calculation\n",
    "topk_target = \"function\"  # 0.01%\n",
    "topk_ratio = 0.0001  # 0.01%\n",
    "\n",
    "n_max_cells_emb = 1000  # for visualization "
   ]
  },
  {
   "cell_type": "code",
   "execution_count": null,
   "metadata": {},
   "outputs": [],
   "source": [
    "# # Parameters\n",
    "# prefix = \"rescue_v3\"\n",
    "# n_samples = 100\n",
    "# sampling_scheme = \"double-replacement\"\n",
    "# n_sampled_cells_per_celltype = 10000\n",
    "# topk_target = \"function\"\n",
    "# topk_ratio = 0.001\n",
    "# cell_type_selection = \"filter\"\n",
    "# n_max_cells_emb = 1000\n"
   ]
  },
  {
   "cell_type": "code",
   "execution_count": null,
   "metadata": {},
   "outputs": [],
   "source": [
    "verbose = 1"
   ]
  },
  {
   "cell_type": "markdown",
   "metadata": {},
   "source": [
    "# Preamble"
   ]
  },
  {
   "cell_type": "code",
   "execution_count": null,
   "metadata": {
    "tags": []
   },
   "outputs": [],
   "source": [
    "notebook_name = f\"application___singlecell\"\\\n",
    "                f\"___parameters\"\\\n",
    "                f\"___prefix__{prefix}\"\\\n",
    "                f\"___cell_types__{cell_type_selection}\"\\\n",
    "                f\"___n_samples__{n_samples}\"\\\n",
    "                f\"___sampling_scheme__{sampling_scheme}\"\\\n",
    "                f\"___n_sampled_cells_per_celltype__{n_sampled_cells_per_celltype}\"\\\n",
    "                f\"___topk_target__{topk_target}\"\\\n",
    "                f\"___topk_ratio__{topk_ratio}\"\\\n",
    "                f\"___n_max_cells_emb__{n_max_cells_emb}\"\n",
    "print(notebook_name)"
   ]
  },
  {
   "cell_type": "markdown",
   "metadata": {},
   "source": [
    "# Imports"
   ]
  },
  {
   "cell_type": "code",
   "execution_count": null,
   "metadata": {
    "tags": []
   },
   "outputs": [],
   "source": [
    "%load_ext autoreload\n",
    "%autoreload 2\n",
    "\n",
    "# disable parallelization for BLAS and co.\n",
    "from corals.threads import set_threads_for_external_libraries\n",
    "set_threads_for_external_libraries(n_threads=n_threads)\n",
    "\n",
    "# general\n",
    "import re\n",
    "import collections\n",
    "import pickle\n",
    "import warnings \n",
    "import joblib\n",
    "import pathlib\n",
    "\n",
    "# data\n",
    "import numpy as np\n",
    "import pandas as pd\n",
    "import h5py\n",
    "\n",
    "# ml / stats\n",
    "import sklearn\n",
    "import scipy.stats\n",
    "\n",
    "# plotting\n",
    "import matplotlib.pyplot as plt\n",
    "import seaborn as sns\n",
    "\n",
    "# init matplotlib defaults\n",
    "import matplotlib\n",
    "matplotlib.rcParams['figure.facecolor'] = 'white'\n"
   ]
  },
  {
   "cell_type": "code",
   "execution_count": null,
   "metadata": {
    "tags": []
   },
   "outputs": [],
   "source": [
    "from matplotlib.collections import LineCollection\n",
    "import sklearn.manifold\n",
    "from corals.correlation.topk._deprecated.original import topk_balltree_combined_tree_parallel_optimized as cor_topk  # TODO: eventually replace with newer implementations"
   ]
  },
  {
   "cell_type": "code",
   "execution_count": null,
   "metadata": {},
   "outputs": [],
   "source": [
    "import corals.correlation.utils\n",
    "import sklearn.impute\n",
    "from coralsarticle.visualization import CurvedText"
   ]
  },
  {
   "cell_type": "code",
   "execution_count": null,
   "metadata": {},
   "outputs": [],
   "source": [
    "from coralsarticle.data.process.singlecell import load_cytof, prepare_cell_sampling, sample_cell_subgroups"
   ]
  },
  {
   "cell_type": "markdown",
   "metadata": {},
   "source": [
    "# Load and prepare Cytof data"
   ]
  },
  {
   "cell_type": "markdown",
   "metadata": {},
   "source": [
    "## Load data"
   ]
  },
  {
   "cell_type": "code",
   "execution_count": null,
   "metadata": {},
   "outputs": [],
   "source": [
    "cell_file=\"../data/processed/immuneclock_singlecell_unstim.h5\"\n",
    "marker_file=\"../data/raw/singlecell/markers.xlsx\"\n",
    "output_dir=\"../data/processed\""
   ]
  },
  {
   "cell_type": "code",
   "execution_count": null,
   "metadata": {},
   "outputs": [],
   "source": [
    "# load all cells\n",
    "cytof = load_cytof(\n",
    "    cell_file=cell_file, \n",
    "    marker_file=marker_file, \n",
    "    verbose=verbose)"
   ]
  },
  {
   "cell_type": "markdown",
   "metadata": {},
   "source": [
    "## Prepare sampling"
   ]
  },
  {
   "cell_type": "code",
   "execution_count": null,
   "metadata": {},
   "outputs": [],
   "source": [
    "cytof_preprocessed_phenotype, cytof_preprocessed_function, subgroups, subgroups_with_cell_types, sample_masking, cell_types, cell_type_order = prepare_cell_sampling(\n",
    "    cytof,\n",
    "    cell_type_selection=cell_type_selection,\n",
    "    marker_file=marker_file,\n",
    "    verbose=verbose\n",
    ")"
   ]
  },
  {
   "cell_type": "code",
   "execution_count": null,
   "metadata": {},
   "outputs": [],
   "source": [
    "cytof_preprocessed_function.shape"
   ]
  },
  {
   "cell_type": "code",
   "execution_count": null,
   "metadata": {},
   "outputs": [],
   "source": [
    "cytof[cytof[\"cell_type\"].isin(cell_type_order)].groupby([\"patient_id\", \"timepoint\"]).size()"
   ]
  },
  {
   "cell_type": "markdown",
   "metadata": {},
   "source": [
    "## Cell statistics (can be skipped)"
   ]
  },
  {
   "cell_type": "code",
   "execution_count": null,
   "metadata": {},
   "outputs": [],
   "source": [
    "# set cells of interest\n",
    "excluded_cell_types = [    \n",
    "    'CD235-CD61-',            # leukocytes\n",
    "    'CD45+CD66-',             # mononuclear cells\n",
    "    'CD66+CD45-',             # granulocytes\n",
    "]"
   ]
  },
  {
   "cell_type": "markdown",
   "metadata": {},
   "source": [
    "### Some cell counts"
   ]
  },
  {
   "cell_type": "code",
   "execution_count": null,
   "metadata": {},
   "outputs": [],
   "source": [
    "cytof\\\n",
    "    .groupby([\"timepoint\", \"cell_type\"]).size()\\\n",
    "    .groupby([\"cell_type\"]).agg([\"min\", \"max\", \"mean\", \"std\"]).sort_index()\\\n",
    "    .drop(excluded_cell_types).sort_values(\"min\")"
   ]
  },
  {
   "cell_type": "code",
   "execution_count": null,
   "metadata": {},
   "outputs": [],
   "source": [
    "cytof\\\n",
    "    .groupby([\"timepoint\", \"cell_type\"]).size()\\\n",
    "    .groupby([\"cell_type\"]).agg([\"min\", \"max\", \"mean\", \"std\"]).sort_index()\\\n",
    "    .loc[cell_type_order,:]\\\n",
    "    .sort_values(\"min\")"
   ]
  },
  {
   "cell_type": "code",
   "execution_count": null,
   "metadata": {},
   "outputs": [],
   "source": [
    "%matplotlib inline\n",
    "subset = cytof[cytof.cell_type.isin(cell_type_order)]\n",
    "subset = subset.groupby([subset.cell_type.cat.remove_unused_categories(), \"timepoint\"]).agg(\"size\").reset_index().rename({0: \"size\"}, axis=1)\n",
    "display(subset[subset.timepoint == \"T3\"].reset_index())\n",
    "sns.histplot(subset, x=\"size\", bins=10, hue=\"timepoint\")"
   ]
  },
  {
   "cell_type": "code",
   "execution_count": null,
   "metadata": {},
   "outputs": [],
   "source": [
    "# check cells per timepoint\n",
    "\n",
    "# max_n = n_sampled_cells_per_celltype\n",
    "max_n = 1000\n",
    "r = cytof\\\n",
    "    .groupby([\"timepoint\", \"cell_type\"]).size()\\\n",
    "    .apply(lambda x: max_n if x > max_n else x)\n",
    "r = r.loc[r.reset_index()[\"cell_type\"].isin(cell_types).values]\n",
    "r = r.groupby([\"timepoint\"]).sum()\n",
    "print(r.min(), r.max())"
   ]
  },
  {
   "cell_type": "markdown",
   "metadata": {},
   "source": [
    "### Check cell type overlaps"
   ]
  },
  {
   "cell_type": "code",
   "execution_count": null,
   "metadata": {},
   "outputs": [],
   "source": [
    "# # check overlap (can take long)\n",
    "\n",
    "# patient_ids = cytof.patient_id.unique()\n",
    "# timepoints = cytof.timepoint.unique()\n",
    "\n",
    "# cell_type_overlap_stats = {} \n",
    "# cell_type_subset_stats = {} \n",
    "# for p in patient_ids:\n",
    "#     for t in timepoints:\n",
    "#         print(\"*\", p,t)\n",
    "#         overlap_stats = np.zeros((len(cell_type_order), len(cell_type_order)))\n",
    "#         subset_stats = np.zeros((len(cell_type_order), len(cell_type_order)))\n",
    "        \n",
    "#         for i_c1, c1 in enumerate(cell_type_order):\n",
    "            \n",
    "#             cells1_id = cytof[(cytof.patient_id == p) & (cytof.timepoint == t) & (cytof.cell_type == c1)].loc[:,\"Time\":].sum(axis=1)\n",
    "#             set1 = set(cells1_id)\n",
    "            \n",
    "#             duplicate = cells1_id.shape[0] - len(set1)\n",
    "#             overlap_stats[i_c1, i_c1] = duplicate\n",
    "            \n",
    "#             assert duplicate == 0\n",
    "            \n",
    "#             for i_c2, c2 in enumerate(cell_type_order):\n",
    "#                 if i_c1 < i_c2:\n",
    "                    \n",
    "#                     cells2_ids = cytof[(cytof.patient_id == p) & (cytof.timepoint == t) & (cytof.cell_type == c2)].loc[:,\"Time\":].sum(axis=1)\n",
    "#                     set2 = set(cells2_ids)\n",
    "#                     overlap = len(set1.intersection(set2))\n",
    "                    \n",
    "#                     assert overlap == 0\n",
    "\n",
    "#                     overlap_stats[i_c1, i_c2] = overlap\n",
    "#                     overlap_stats[i_c2, i_c1] = overlap\n",
    "                    \n",
    "#                     if overlap > 0:\n",
    "#                         subset_stats[i_c2, i_c1] = 2\n",
    "#                         subset_stats[i_c1, i_c2] = 2\n",
    "#                         if len(set1 - set2) == 0:\n",
    "#                             subset_stats[i_c2, i_c1] = 1\n",
    "#                         if len(set2 - set1) == 0:\n",
    "#                             subset_stats[i_c1, i_c2] = 1\n",
    "                            \n",
    "#         cell_type_overlap_stats[(p, t)] = overlap_stats              \n",
    "#         cell_type_subset_stats[(p, t)] = subset_stats\n",
    "        \n",
    "#         fig, axes = plt.subplots(1, 2, figsize=(15 * 2,13))\n",
    "#         ax = axes[0]\n",
    "#         sns.heatmap(overlap_stats, mask=(overlap_stats==0), linewidths=1, linecolor=\"grey\", ax=ax)\n",
    "#         ax.set_xticks(np.arange(len(cell_type_order)) + 0.5)\n",
    "#         ax.set_yticks(np.arange(len(cell_type_order)) + 0.5)\n",
    "#         ax.set_xticklabels(cell_type_order, rotation=270)\n",
    "#         ax.set_yticklabels(cell_type_order, rotation=0)\n",
    "        \n",
    "#         ax = axes[1]\n",
    "#         sns.heatmap(subset_stats, linewidths=1, linecolor=\"grey\", ax=ax)\n",
    "#         ax.set_xticks(np.arange(len(cell_type_order)) + 0.5)\n",
    "#         ax.set_yticks(np.arange(len(cell_type_order)) + 0.5)\n",
    "#         ax.set_xticklabels(cell_type_order, rotation=270)\n",
    "#         ax.set_yticklabels(cell_type_order, rotation=0)\n",
    "#         ax.set(xlabel=\"subset\", ylabel=\"superset\")\n",
    "#         fig.suptitle(f\"{p}, {t}\")\n",
    "        \n",
    "#         plt.show()\n",
    "#         plt.close()\n",
    "        \n",
    "# #         break\n",
    "# #     break\n",
    "                "
   ]
  },
  {
   "cell_type": "markdown",
   "metadata": {},
   "source": [
    "### Explore individual cell type overlaps"
   ]
  },
  {
   "cell_type": "code",
   "execution_count": null,
   "metadata": {},
   "outputs": [],
   "source": [
    "p = 12\n",
    "t = \"PP\""
   ]
  },
  {
   "cell_type": "code",
   "execution_count": null,
   "metadata": {},
   "outputs": [],
   "source": [
    "select = (cytof.patient_id == p) & (cytof.timepoint == t)\n",
    "a = cytof[select & (cytof.cell_type == \"CD25+CD4+Tcells_naive_noTregs\")].Time\n",
    "b = cytof[select & (cytof.cell_type == \"CD45RA-Tregs\")].Time\n",
    "print(a.size, b.size, len(set(a).intersection(set(b))))"
   ]
  },
  {
   "cell_type": "code",
   "execution_count": null,
   "metadata": {},
   "outputs": [],
   "source": [
    "select = (cytof.patient_id == p) & (cytof.timepoint == t)\n",
    "a = cytof[select & (cytof.cell_type == \"intMCs\")].Time\n",
    "b = cytof[select & (cytof.cell_type == \"M-MDSC\")].Time\n",
    "print(a.size, b.size, len(set(a).intersection(set(b))))"
   ]
  },
  {
   "cell_type": "code",
   "execution_count": null,
   "metadata": {},
   "outputs": [],
   "source": [
    "select = (cytof.patient_id == p) & (cytof.timepoint == t)\n",
    "a = cytof[select & (cytof.cell_type == \"cMCs\")].Time\n",
    "b = cytof[select & (cytof.cell_type == \"pDCs\")].Time\n",
    "print(a.size, b.size, len(set(a).intersection(set(b))))"
   ]
  },
  {
   "cell_type": "code",
   "execution_count": null,
   "metadata": {},
   "outputs": [],
   "source": [
    "a = cytof[select & (cytof.cell_type == \"CD25+CD4+Tcells_naive\")].Time\n",
    "b = cytof[select & (cytof.cell_type == \"CD45RA+Tregs\")].Time\n",
    "print(a.size, b.size, len(set(a).intersection(set(b))))"
   ]
  },
  {
   "cell_type": "code",
   "execution_count": null,
   "metadata": {},
   "outputs": [],
   "source": [
    "a = cytof[select & (cytof.cell_type == \"CD4+Tcells_naive\")].Time\n",
    "b = cytof[select & (cytof.cell_type == \"Tbet+CD4+Tcells_mem\")].Time\n",
    "print(a.size, b.size, len(set(a).intersection(set(b))))"
   ]
  },
  {
   "cell_type": "code",
   "execution_count": null,
   "metadata": {},
   "outputs": [],
   "source": [
    "a = cytof[select & (cytof.cell_type == \"CD25+CD4+Tcells_naive\")].Time\n",
    "b = cytof[select & (cytof.cell_type == \"Tbet+CD4+Tcells_mem\")].Time\n",
    "print(a.size, b.size, len(set(a).intersection(set(b))))"
   ]
  },
  {
   "cell_type": "code",
   "execution_count": null,
   "metadata": {},
   "outputs": [],
   "source": [
    "a = cytof[select & (cytof.cell_type == \"CD8+Tcells\")].loc[:,\"Time\":].sum(axis=1)\n",
    "b = cytof[select & (cytof.cell_type == \"CD25+CD8+Tcells_naive\")].loc[:,\"Time\":].sum(axis=1)\n",
    "print(a.size, b.size, len(set(a).intersection(set(b))))"
   ]
  },
  {
   "cell_type": "code",
   "execution_count": null,
   "metadata": {},
   "outputs": [],
   "source": [
    "select = (cytof.patient_id == 1) & (cytof.timepoint == \"T3\")\n",
    "\n",
    "a = cytof[select & (cytof.cell_type == \"CD4+Tcells_mem\")].Time\n",
    "b = cytof[select & (cytof.cell_type == \"CD45RA-Tregs\")].Time\n",
    "print(a.size, b.size, len(set(a).intersection(set(b))))\n",
    "\n",
    "a = cytof[select & (cytof.cell_type == \"CD4+Tcells_naive\")].Time\n",
    "b = cytof[select & (cytof.cell_type == \"CD45RA-Tregs\")].Time\n",
    "print(a.size, b.size, len(set(a).intersection(set(b))))\n",
    "print()\n",
    "\n",
    "a = cytof[select & (cytof.cell_type == \"CD4+Tcells_mem\")].Time\n",
    "b = cytof[select & (cytof.cell_type == \"CD45RA+Tregs\")].Time\n",
    "print(a.size, b.size, len(set(a).intersection(set(b))))\n",
    "\n",
    "a = cytof[select & (cytof.cell_type == \"CD4+Tcells_naive\")].Time\n",
    "b = cytof[select & (cytof.cell_type == \"CD45RA+Tregs\")].Time\n",
    "print(a.size, b.size, len(set(a).intersection(set(b))))\n",
    "print()\n",
    "\n",
    "a = cytof[select & (cytof.cell_type == \"CD4+Tcells_mem\")].Time\n",
    "b = cytof[select & (cytof.cell_type == \"CD25+CD4+Tcells_mem\")].Time\n",
    "print(a.size, b.size, len(set(a).intersection(set(b))))\n",
    "\n",
    "a = cytof[select & (cytof.cell_type == \"CD4+Tcells_naive\")].Time\n",
    "b = cytof[select & (cytof.cell_type == \"CD25+CD4+Tcells_naive\")].Time\n",
    "print(a.size, b.size, len(set(a).intersection(set(b))))\n",
    "print()\n",
    "\n",
    "\n",
    "a = cytof[select & (cytof.cell_type == \"CD4+Tcells_mem\")].Time\n",
    "b = cytof[select & (cytof.cell_type == \"CD25+CD4+Tcells_naive\")].Time\n",
    "print(a.size, b.size, len(set(a).intersection(set(b))))\n",
    "\n",
    "a = cytof[select & (cytof.cell_type == \"CD4+Tcells_naive\")].Time\n",
    "b = cytof[select & (cytof.cell_type == \"CD25+CD4+Tcells_mem\")].Time\n",
    "print(a.size, b.size, len(set(a).intersection(set(b))))\n",
    "print()\n",
    "\n",
    "\n",
    "a = cytof[select & (cytof.cell_type == \"CD45RA-Tregs\")].Time\n",
    "b = cytof[select & (cytof.cell_type == \"CD25+CD4+Tcells_mem\")].Time\n",
    "print(a.size, b.size, len(set(a).intersection(set(b))))\n",
    "\n",
    "a = cytof[select & (cytof.cell_type == \"CD45RA-Tregs\")].Time\n",
    "b = cytof[select & (cytof.cell_type == \"CD25+CD4+Tcells_naive\")].Time\n",
    "print(a.size, b.size, len(set(a).intersection(set(b))))\n",
    "\n",
    "a = cytof[select & (cytof.cell_type == \"CD45RA+Tregs\")].Time\n",
    "b = cytof[select & (cytof.cell_type == \"CD25+CD4+Tcells_mem\")].Time\n",
    "print(a.size, b.size, len(set(a).intersection(set(b))))\n",
    "\n",
    "a = cytof[select & (cytof.cell_type == \"CD45RA+Tregs\")].Time\n",
    "b = cytof[select & (cytof.cell_type == \"CD25+CD4+Tcells_naive\")].Time\n",
    "print(a.size, b.size, len(set(a).intersection(set(b))))"
   ]
  },
  {
   "cell_type": "markdown",
   "metadata": {},
   "source": [
    "# Prepare cells"
   ]
  },
  {
   "cell_type": "code",
   "execution_count": null,
   "metadata": {},
   "outputs": [],
   "source": [
    "def sample_cells():\n",
    "\n",
    "    # sample cells\n",
    "    idx_sample = sample_cell_subgroups(\n",
    "        subgroups=subgroups_with_cell_types,\n",
    "        subgroups_masking=sample_masking,\n",
    "        n_sampled_cells_per_celltype=n_sampled_cells_per_celltype,\n",
    "        sampling_scheme=sampling_scheme,\n",
    "        verbose=verbose\n",
    "    )\n",
    "\n",
    "    cytof_preprocessed_phenotype_sample = collections.OrderedDict()\n",
    "    for (timepoint, cell_type), idx in idx_sample.items():\n",
    "        cytof_preprocessed_phenotype_sample.setdefault(timepoint, dict())[cell_type] = cytof_preprocessed_phenotype[idx,:] \n",
    "\n",
    "    cytof_preprocessed_function_sample = collections.OrderedDict()\n",
    "    for (timepoint, cell_type), idx in idx_sample.items():\n",
    "        cytof_preprocessed_function_sample.setdefault(timepoint, dict())[cell_type] = cytof_preprocessed_function[idx,:] \n",
    "    \n",
    "    return cytof_preprocessed_phenotype_sample, cytof_preprocessed_function_sample"
   ]
  },
  {
   "cell_type": "code",
   "execution_count": null,
   "metadata": {},
   "outputs": [],
   "source": [
    "def calculate_topk(cells):\n",
    "\n",
    "    topk = dict()\n",
    "    for subgroup_id in subgroups:\n",
    "                   \n",
    "        print(subgroup_id, end=\": \")\n",
    "        cell_matrix = np.concatenate([cells[subgroup_id][c] for c in cell_types])\n",
    "        print(cell_matrix.shape)\n",
    "\n",
    "        topk_cor, (topk_idx_dst, topk_idx_src) = cor_topk(\n",
    "            cell_matrix.transpose(),\n",
    "            k=cell_matrix.shape[0] **2 * topk_ratio, \n",
    "            correlation_type=\"spearman\",\n",
    "            n_jobs=n_jobs_topk)\n",
    "\n",
    "        n_src = cell_matrix.shape[0]\n",
    "        n_dst = cell_matrix.shape[0]\n",
    "\n",
    "        topk[subgroup_id] = (topk_cor, (topk_idx_src, topk_idx_dst)), (n_src, n_dst)\n",
    "        \n",
    "    topk_matrices = {\n",
    "        s:scipy.sparse.csr_matrix(topk, shape=shape) \n",
    "        for s,(topk,shape) in topk.items()}\n",
    "        \n",
    "    return topk, topk_matrices"
   ]
  },
  {
   "cell_type": "code",
   "execution_count": null,
   "metadata": {},
   "outputs": [],
   "source": [
    "bins = np.concatenate([[-2], np.linspace(-1,1,n_topk_stats_bins), [2]])\n",
    "    \n",
    "def calculate_topk_stats(cells, topk_matrices):\n",
    "    \n",
    "    import scipy.sparse\n",
    "    \n",
    "    topk_stats = dict()\n",
    "    for subgroup in subgroups:\n",
    "        print(subgroup)\n",
    "        counts = np.zeros((cell_types.size, cell_types.size))\n",
    "        histograms = np.zeros((cell_types.size, cell_types.size, len(bins) - 1))\n",
    "        means = np.zeros((cell_types.size, cell_types.size))\n",
    "        medians = np.zeros((cell_types.size, cell_types.size))\n",
    "        stds = np.zeros((cell_types.size, cell_types.size))\n",
    "        for i, cell_type_i in enumerate(cell_types):\n",
    "#             print(cell_type_i)\n",
    "            for j, cell_type_j in enumerate(cell_types):\n",
    "\n",
    "                if i <= j:\n",
    "\n",
    "#                     print(cell_type_i, cell_type_j)\n",
    "                    \n",
    "                    # find coordinates of area in correlation matrix where the \n",
    "                    # corresponding correlation between the two cell types reside\n",
    "                    \n",
    "                    i_start = sum([cells[subgroup][c].shape[0] for c in cell_types[:i]])\n",
    "                    i_end   = sum([cells[subgroup][c].shape[0] for c in cell_types[:(i + 1)]])\n",
    "\n",
    "                    j_start = sum([cells[subgroup][c].shape[0] for c in cell_types[:j]])\n",
    "                    j_end   = sum([cells[subgroup][c].shape[0] for c in cell_types[:(j + 1)]])\n",
    "\n",
    "                    # extract sub matrix according to the coordinates calculated above\n",
    "                    \n",
    "                    mm = topk_matrices[subgroup]\n",
    "#                     mm += mm.transpose()\n",
    "#                     print(mm.nnz)\n",
    "                    m = mm[i_start:i_end, j_start:j_end]\n",
    "    \n",
    "                    # add transpose to m to make sure we are symmetric\n",
    "                    mt = mm[j_start:j_end, i_start:i_end].transpose()\n",
    "                    msk = m.multiply(mt)\n",
    "                    msk.data = np.ones_like(msk.data)\n",
    "                    mt = mt - msk.multiply(mt)\n",
    "                    mt.eliminate_zeros()\n",
    "        \n",
    "                    m = m + mt\n",
    "                    mt.eliminate_zeros()\n",
    "\n",
    "                    # count top-k correlations\n",
    "                    counts[i,j] = m.nnz\n",
    "                    counts[j,i] = m.nnz\n",
    "                    histograms[i, j, :] = np.histogram(m.data, bins=bins)[0]\n",
    "                    histograms[j, i, :] = np.histogram(m.data, bins=bins)[0]\n",
    "        \n",
    "                    means[i,j] = np.mean(m.data)\n",
    "                    means[j,i] = np.mean(m.data)\n",
    "                    stds[i,j] = np.std(m.data)\n",
    "                    stds[j,i] = np.std(m.data)\n",
    "                    medians[i,j] = np.median(m.data)\n",
    "                    medians[j,i] = np.median(m.data)\n",
    "        \n",
    "        # calculate stats\n",
    "        topk_stats[subgroup] = {}\n",
    "        topk_stats[subgroup][\"counts\"] = counts\n",
    "        topk_stats[subgroup][\"frequency\"] = counts / counts.sum()\n",
    "        topk_stats[subgroup][\"histograms\"] = histograms\n",
    "        topk_stats[subgroup][\"means\"] = means\n",
    "        topk_stats[subgroup][\"stds\"] = stds\n",
    "        topk_stats[subgroup][\"medians\"] = medians\n",
    "        \n",
    "    return topk_stats"
   ]
  },
  {
   "cell_type": "code",
   "execution_count": null,
   "metadata": {},
   "outputs": [],
   "source": [
    "# we look at multiple samples\n",
    "# the last sample will be used for embeddings and drawing individual edges\n",
    "cells_phenotype = None\n",
    "cells_function = None\n",
    "\n",
    "# sample and accumulate top-k statistics\n",
    "topk_stats_samples = []\n",
    "\n",
    "cells_phenotype_deque = collections.deque([], n_samples_deque)\n",
    "cells_function_deque = collections.deque([], n_samples_deque)\n",
    "cells_deque = collections.deque([], n_samples_deque)\n",
    "topk_deque = collections.deque([], n_samples_deque)\n",
    "topk_matrices_deque = collections.deque([], n_samples_deque)\n",
    "\n",
    "for i in range(n_samples):\n",
    "    print(f\"##################################################################\")\n",
    "    print(f\"### Sample {i} #####################################################\")\n",
    "    print(f\"### sampling cells ###############################################\")\n",
    "    cells_phenotype, cells_function = sample_cells()\n",
    "    \n",
    "    cells_phenotype_deque.append(cells_phenotype)\n",
    "    cells_function_deque.append(cells_function)\n",
    "    \n",
    "    if topk_target == \"phenotype\":\n",
    "        cells = cells_phenotype\n",
    "    elif topk_target == \"function\":\n",
    "        cells = cells_function\n",
    "    elif topk_target == \"combined\":\n",
    "        cells = collections.OrderedDict([\n",
    "            (\n",
    "                k, \n",
    "                {\n",
    "                    cell_type: np.concatenate(\n",
    "                        [cells_phenotype[k][cell_type], cells_function[k][cell_type]], \n",
    "                        axis=1)\n",
    "                    for cell_type in cells_phenotype[k].keys()\n",
    "                }\n",
    "            )\n",
    "            for k in cells_phenotype])\n",
    "    else:\n",
    "        raise ValueError(f\"Unknown top-k target: {topk_target}\")\n",
    "    cells_deque.append(cells)\n",
    "    print(f\"### top-k ########################################################\")\n",
    "    topk, topk_matrices = calculate_topk(cells)\n",
    "    topk_deque.append(topk)\n",
    "    topk_matrices_deque.append(topk_matrices)\n",
    "    print(f\"### stats ########################################################\")\n",
    "    topk_stats = calculate_topk_stats(cells, topk_matrices)\n",
    "    topk_stats_samples.append(topk_stats)"
   ]
  },
  {
   "cell_type": "markdown",
   "metadata": {},
   "source": [
    "# Visualization preparation"
   ]
  },
  {
   "cell_type": "code",
   "execution_count": null,
   "metadata": {},
   "outputs": [],
   "source": [
    "%%time\n",
    "\n",
    "cells_phenotype_emb_deque = collections.deque([], n_samples_deque)\n",
    "cells_phenotype_emb_idx_deque = collections.deque([], n_samples_deque)\n",
    "\n",
    "for i, cells_phenotype in enumerate(cells_phenotype_deque):\n",
    "\n",
    "    print(f\"Queue position: {i}\")\n",
    "    \n",
    "    # calculate embeddings\n",
    "    cells_phenotype_emb = dict()\n",
    "    cells_phenotype_emb_idx = dict()\n",
    "\n",
    "    for cell_type in cell_types:\n",
    "\n",
    "        # collect / sample cells\n",
    "        cells = []\n",
    "        for s in subgroups:\n",
    "            # we are using phenotype features for embedding cells\n",
    "            pheno = cells_phenotype[s][cell_type]\n",
    "            idx = np.random.choice(np.arange(pheno.shape[0]), min(n_max_cells_emb, pheno.shape[0]), replace=False)\n",
    "            cells_phenotype_emb_idx.setdefault(s, dict())[cell_type] = idx\n",
    "            cells.append(pheno[idx,:])\n",
    "\n",
    "        subgroup_sizes = [c.shape[0] for c in cells]\n",
    "        cells = np.concatenate(cells)\n",
    "\n",
    "        print(\" *\", cell_type)\n",
    "        print(\"  \", cells.shape)\n",
    "        tsne = sklearn.manifold.TSNE(n_components=2, random_state=42)\n",
    "        emb = tsne.fit_transform(cells)\n",
    "\n",
    "        # split into subgroups\n",
    "        offset = 0\n",
    "        for subgroup_id, subgroup_size in zip(subgroups, subgroup_sizes):     \n",
    "            cells_phenotype_emb.setdefault(subgroup_id, dict())[cell_type] = emb[offset:(offset + subgroup_size),:]\n",
    "            offset += subgroup_size\n",
    "            \n",
    "    cells_phenotype_emb_deque.append(cells_phenotype_emb)\n",
    "    cells_phenotype_emb_idx_deque.append(cells_phenotype_emb_idx)\n",
    "            \n",
    "    print()"
   ]
  },
  {
   "cell_type": "markdown",
   "metadata": {},
   "source": [
    "# Save essential results"
   ]
  },
  {
   "cell_type": "code",
   "execution_count": null,
   "metadata": {},
   "outputs": [],
   "source": [
    "path = pathlib.Path(\"../_out/\" + notebook_name)\n",
    "path.mkdir(parents=True, exist_ok=True)\n",
    "path"
   ]
  },
  {
   "cell_type": "code",
   "execution_count": null,
   "metadata": {},
   "outputs": [],
   "source": [
    "# save essentials\n",
    "pickle.dump(cell_types, open(path / \"cell_types.pickle\", \"wb\"))\n",
    "pickle.dump(subgroups, open(path / \"subgroups.pickle\", \"wb\"))\n",
    "\n",
    "pickle.dump(cells_phenotype_deque, open(path / \"cells_phenotype.pickle\", \"wb\"))\n",
    "pickle.dump(cells_function_deque, open(path / \"cells_function.pickle\", \"wb\"))\n",
    "\n",
    "pickle.dump(bins, open(path / \"topk_stats_bins.pickle\", \"wb\"))\n",
    "\n",
    "pickle.dump(topk_deque, open(path / \"topk.pickle\", \"wb\"))\n",
    "pickle.dump(topk_matrices_deque, open(path / \"topk_matrices.pickle\", \"wb\"))\n",
    "\n",
    "pickle.dump(topk_stats_samples, open(path / \"topk_stats_samples.pickle\", \"wb\"))\n",
    "\n",
    "pickle.dump(cells_phenotype_emb_deque, open(path / \"cells_phenotype_emb.pickle\", \"wb\"))\n",
    "pickle.dump(cells_phenotype_emb_idx_deque, open(path / \"cells_phenotype_emb_idx.pickle\", \"wb\"))"
   ]
  },
  {
   "cell_type": "code",
   "execution_count": null,
   "metadata": {},
   "outputs": [],
   "source": []
  }
 ],
 "metadata": {
  "kernelspec": {
   "display_name": "Python 3",
   "language": "python",
   "name": "python3"
  },
  "language_info": {
   "codemirror_mode": {
    "name": "ipython",
    "version": 3
   },
   "file_extension": ".py",
   "mimetype": "text/x-python",
   "name": "python",
   "nbconvert_exporter": "python",
   "pygments_lexer": "ipython3",
   "version": "3.9.1"
  },
  "toc-autonumbering": true
 },
 "nbformat": 4,
 "nbformat_minor": 4
}
