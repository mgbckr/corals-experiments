{
 "cells": [
  {
   "cell_type": "markdown",
   "metadata": {},
   "source": [
    "# Preamble"
   ]
  },
  {
   "cell_type": "markdown",
   "metadata": {},
   "source": [
    "This code produces the multiomics related figure in the main text for illustrating applications of our method."
   ]
  },
  {
   "cell_type": "code",
   "execution_count": null,
   "metadata": {
    "tags": []
   },
   "outputs": [],
   "source": [
    "notebook_name = \"application_multiomics\""
   ]
  },
  {
   "cell_type": "code",
   "execution_count": null,
   "metadata": {
    "tags": []
   },
   "outputs": [],
   "source": [
    "n_jobs = 64"
   ]
  },
  {
   "cell_type": "markdown",
   "metadata": {},
   "source": [
    "# Imports"
   ]
  },
  {
   "cell_type": "code",
   "execution_count": null,
   "metadata": {
    "tags": []
   },
   "outputs": [],
   "source": [
    "%load_ext autoreload\n",
    "%autoreload 2\n",
    "%matplotlib inline\n",
    "\n",
    "\n",
    "# # disable parallelization for BLAS and co.\n",
    "# from corals.threads import set_threads_for_external_libraries\n",
    "# set_threads_for_external_libraries(n_threads=16)\n",
    "\n",
    "# general\n",
    "import re\n",
    "import collections\n",
    "import pickle\n",
    "import warnings \n",
    "import joblib\n",
    "import pathlib\n",
    "\n",
    "# data\n",
    "import numpy as np\n",
    "import pandas as pd\n",
    "import h5py\n",
    "\n",
    "# ml / stats\n",
    "import sklearn\n",
    "import scipy.stats\n",
    "\n",
    "# plotting\n",
    "import matplotlib.pyplot as plt\n",
    "\n",
    "# init matplotlib defaults\n",
    "import matplotlib\n",
    "matplotlib.rcParams['figure.facecolor'] = 'white'"
   ]
  },
  {
   "cell_type": "code",
   "execution_count": null,
   "metadata": {
    "tags": []
   },
   "outputs": [],
   "source": [
    "%run -m rpy2.situation"
   ]
  },
  {
   "cell_type": "code",
   "execution_count": null,
   "metadata": {
    "tags": []
   },
   "outputs": [],
   "source": [
    "import sklearn.manifold\n",
    "import sklearn.impute\n",
    "import sklearn.pipeline"
   ]
  },
  {
   "cell_type": "code",
   "execution_count": null,
   "metadata": {
    "tags": []
   },
   "outputs": [],
   "source": [
    "from matplotlib.collections import LineCollection"
   ]
  },
  {
   "cell_type": "code",
   "execution_count": null,
   "metadata": {
    "tags": []
   },
   "outputs": [],
   "source": [
    "import coralsarticle.data.applications.multiomics\n",
    "from coralsarticle.data.utils import preprocess\n",
    "from corals.correlation.utils import preprocess_X"
   ]
  },
  {
   "cell_type": "code",
   "execution_count": null,
   "metadata": {
    "tags": []
   },
   "outputs": [],
   "source": [
    "import corals.correlation.topk\n",
    "import corals.correlation.topkdiff\n",
    "\n",
    "from corals.correlation.topk.default import cor_topk\n",
    "from corals.correlation.topkdiff.default import cor_topkdiff"
   ]
  },
  {
   "cell_type": "code",
   "execution_count": null,
   "metadata": {
    "tags": []
   },
   "outputs": [],
   "source": [
    "import matplotlib.patches as mpatches\n",
    "import matplotlib.pyplot as plt \n",
    "from matplotlib.lines import Line2D"
   ]
  },
  {
   "cell_type": "markdown",
   "metadata": {},
   "source": [
    "# Data and functions"
   ]
  },
  {
   "cell_type": "code",
   "execution_count": null,
   "metadata": {
    "tags": []
   },
   "outputs": [],
   "source": [
    "data_preg = coralsarticle.data.applications.multiomics.load_pregnancy_multiomics_data()"
   ]
  },
  {
   "cell_type": "code",
   "execution_count": null,
   "metadata": {
    "tags": []
   },
   "outputs": [],
   "source": [
    "feature_groups = sorted(coralsarticle.data.applications.multiomics.pregnancy_multiomics_subset_info.keys())\n",
    "pregnancy_multiomics_subset_info = coralsarticle.data.applications.multiomics.pregnancy_multiomics_subset_info"
   ]
  },
  {
   "cell_type": "markdown",
   "metadata": {},
   "source": [
    "## Masks and preprocessing"
   ]
  },
  {
   "cell_type": "markdown",
   "metadata": {},
   "source": [
    "We are \n",
    "* throwing out columns with only one value because those cause NAs which the BallTree in the top-k algorithm can't handle\n",
    "* throwing out duplicate columns because those seem not to be selected anyway when the min-difference between timepoint correlations is at least 0.75"
   ]
  },
  {
   "cell_type": "code",
   "execution_count": null,
   "metadata": {
    "tags": []
   },
   "outputs": [],
   "source": [
    "# data\n",
    "data_tp3 = data_preg[data_preg[\"timepoint\"] == 3][feature_groups].values[:,:]\n",
    "data_tp4 = data_preg[data_preg[\"timepoint\"] == 4][feature_groups].values[:,:]"
   ]
  },
  {
   "cell_type": "code",
   "execution_count": null,
   "metadata": {
    "tags": []
   },
   "outputs": [],
   "source": [
    "# kick out everything that may result in NaNs\n",
    "\n",
    "data_tp3_msk_nunique2 = coralsarticle.data.utils.mask_min_nunique(data_tp3, 2)\n",
    "data_tp4_msk_nunique2 = coralsarticle.data.utils.mask_min_nunique(data_tp4, 2)\n",
    "data_tp34_msk_nunique2 = data_tp3_msk_nunique2 & data_tp4_msk_nunique2\n",
    "\n",
    "data_tp3 = data_tp3[:, data_tp34_msk_nunique2]\n",
    "data_tp4 = data_tp4[:, data_tp34_msk_nunique2]"
   ]
  },
  {
   "cell_type": "code",
   "execution_count": null,
   "metadata": {
    "tags": []
   },
   "outputs": [],
   "source": [
    "# get masks for duplicate values (we'll add them back in later)\n",
    "data_tp34_msk_unique, data_tp34_msk_unique_inverse = coralsarticle.data.utils.mask_unique(np.concatenate([data_tp3, data_tp4], axis=0), return_inverse=True)\n",
    "\n",
    "# disable this make for now\n",
    "# data_tp34_msk_unique[:] = 1\n",
    "\n",
    "data_tp34_msk_unique.sum()"
   ]
  },
  {
   "cell_type": "code",
   "execution_count": null,
   "metadata": {
    "tags": []
   },
   "outputs": [],
   "source": [
    "# test inverse\n",
    "d = data_tp3[:,:]\n",
    "msk_unique, msk_unique_reverse = coralsarticle.data.utils.mask_unique(d, return_inverse=True)\n",
    "\n",
    "assert np.allclose(\n",
    "    d,\n",
    "    d[:,msk_unique][:,msk_unique_reverse])"
   ]
  },
  {
   "cell_type": "markdown",
   "metadata": {},
   "source": [
    "# Top-k"
   ]
  },
  {
   "cell_type": "markdown",
   "metadata": {},
   "source": [
    "## Top-k per timepoint"
   ]
  },
  {
   "cell_type": "markdown",
   "metadata": {},
   "source": [
    "**Note**: This takes a bit longer than in the benchmarks because we are selecting 10% (for historical reasons) of the top correlations rather than 0.1%."
   ]
  },
  {
   "cell_type": "code",
   "execution_count": null,
   "metadata": {
    "tags": []
   },
   "outputs": [],
   "source": [
    "topk_ratio = 0.10 \n",
    "approximation_factor = 5"
   ]
  },
  {
   "cell_type": "code",
   "execution_count": null,
   "metadata": {
    "tags": []
   },
   "outputs": [],
   "source": [
    "%%time\n",
    "data_tp3_topk_cor, data_tp3_topk_idx = cor_topk(\n",
    "    data_tp3[:,data_tp34_msk_unique], \n",
    "    k=data_tp34_msk_unique.sum()**2 * topk_ratio, \n",
    "    n_jobs=n_jobs, \n",
    "    correlation_type=\"spearman\", \n",
    "    approximation_factor=approximation_factor,\n",
    "    symmetrize=True)"
   ]
  },
  {
   "cell_type": "code",
   "execution_count": null,
   "metadata": {
    "tags": []
   },
   "outputs": [],
   "source": [
    "# check min and max correlations\n",
    "min_cor = np.min(np.abs(data_tp3_topk_cor))\n",
    "max_cor = np.max(np.abs(data_tp3_topk_cor))\n",
    "print(min_cor, max_cor)"
   ]
  },
  {
   "cell_type": "code",
   "execution_count": null,
   "metadata": {
    "tags": []
   },
   "outputs": [],
   "source": [
    "%%time\n",
    "data_tp4_topk_cor, data_tp4_topk_idx = cor_topk(\n",
    "    data_tp4[:,data_tp34_msk_unique], \n",
    "    k=data_tp34_msk_unique.sum()**2 * topk_ratio, \n",
    "    n_jobs=64, \n",
    "    correlation_type=\"spearman\", \n",
    "    approximation_factor=approximation_factor,\n",
    "    symmetrize=True)"
   ]
  },
  {
   "cell_type": "code",
   "execution_count": null,
   "metadata": {
    "tags": []
   },
   "outputs": [],
   "source": [
    "# check min and max correlations\n",
    "min_cor = np.min(np.abs(data_tp4_topk_cor))\n",
    "max_cor = np.max(np.abs(data_tp4_topk_cor))\n",
    "print(min_cor, max_cor)"
   ]
  },
  {
   "cell_type": "code",
   "execution_count": null,
   "metadata": {
    "tags": []
   },
   "outputs": [],
   "source": [
    "%%time\n",
    "# convert to sparse matrices\n",
    "data_tp3_topk_cor_sparsematrix = scipy.sparse.csr_matrix((data_tp3_topk_cor, data_tp3_topk_idx), shape=[data_tp34_msk_unique.sum()] * 2)\n",
    "data_tp4_topk_cor_sparsematrix = scipy.sparse.csr_matrix((data_tp4_topk_cor, data_tp4_topk_idx), shape=[data_tp34_msk_unique.sum()] * 2)"
   ]
  },
  {
   "cell_type": "markdown",
   "metadata": {},
   "source": [
    "## Find most different"
   ]
  },
  {
   "cell_type": "code",
   "execution_count": null,
   "metadata": {
    "tags": []
   },
   "outputs": [],
   "source": [
    "%%time\n",
    "approximation_factor = 10\n",
    "topk_ratio = 0.001\n",
    "data_tp34_topk_diff_values_s, data_tp34_topk_diff_idx_s = cor_topkdiff(\n",
    "    data_tp3[:,data_tp34_msk_unique], \n",
    "    data_tp4[:, data_tp34_msk_unique], \n",
    "    k=data_tp34_msk_unique.sum()**2*topk_ratio, \n",
    "    approximation_factor=approximation_factor,\n",
    "    n_jobs=n_jobs,\n",
    "    correlation_type=\"spearman\", \n",
    "    symmetrize=True)"
   ]
  },
  {
   "cell_type": "code",
   "execution_count": null,
   "metadata": {
    "tags": []
   },
   "outputs": [],
   "source": [
    "# check min and max correlations\n",
    "min_cor = np.min(np.abs(data_tp34_topk_diff_values_s))\n",
    "max_cor = np.max(np.abs(data_tp34_topk_diff_values_s))\n",
    "print(min_cor, max_cor)"
   ]
  },
  {
   "cell_type": "code",
   "execution_count": null,
   "metadata": {
    "tags": []
   },
   "outputs": [],
   "source": [
    "data_tp34_topk_diff_values, data_tp34_topk_diff_idx = data_tp34_topk_diff_values_s, data_tp34_topk_diff_idx_s "
   ]
  },
  {
   "cell_type": "code",
   "execution_count": null,
   "metadata": {
    "tags": []
   },
   "outputs": [],
   "source": [
    "%%time\n",
    "# convert to sparse matrix\n",
    "data_tp34_topk_diff_sparsematrix = scipy.sparse.csr_matrix((data_tp34_topk_diff_values, data_tp34_topk_diff_idx), shape=(data_tp34_msk_unique.sum(), data_tp34_msk_unique.sum()))"
   ]
  },
  {
   "cell_type": "markdown",
   "metadata": {},
   "source": [
    "# Load embeddings"
   ]
  },
  {
   "cell_type": "code",
   "execution_count": null,
   "metadata": {
    "tags": []
   },
   "outputs": [],
   "source": [
    "# load embeddings\n",
    "\n",
    "path = pathlib.Path(\"../_out/applications/application_multiomics_prepare-embeddings\")\n",
    "prefix = \"embedding___data_pregnancy___preprocessing_neg_n2___cor-spearman-direct___algorithm_tsne_v2___\"\n",
    "\n",
    "embeddings = []\n",
    "select_embeddings = []\n",
    "runtimes = []\n",
    "\n",
    "for i_fg, feature_group in enumerate(feature_groups):\n",
    "#     print(prefix, feature_group)\n",
    "    \n",
    "    filename = f\"{prefix}featuregroup_{feature_group}.h5\"\n",
    "    print(filename)\n",
    "    \n",
    "    with h5py.File(path / filename, \"r\") as f:\n",
    "        embeddings.append(f[\"embedding\"][:])\n",
    "        select_embeddings.append(f[\"mask\"][:])\n",
    "        runtimes.append(f[\"time\"][()])"
   ]
  },
  {
   "cell_type": "code",
   "execution_count": null,
   "metadata": {
    "tags": []
   },
   "outputs": [],
   "source": [
    "runtimes"
   ]
  },
  {
   "cell_type": "code",
   "execution_count": null,
   "metadata": {
    "tags": []
   },
   "outputs": [],
   "source": [
    "# check embeddings\n",
    "fig, axes = plt.subplots(1, 7, figsize=(7 * (6 + 1), 6))\n",
    "for i, emb in enumerate(embeddings):\n",
    "    ax = axes[i]\n",
    "    ax.scatter(emb[:,0], emb[:,1], s=1)\n",
    "    ax.set(title=feature_groups[i]) "
   ]
  },
  {
   "cell_type": "code",
   "execution_count": null,
   "metadata": {
    "tags": []
   },
   "outputs": [],
   "source": [
    "embeddings_merged = np.concatenate(embeddings)\n",
    "e_max = np.max(np.abs(embeddings_merged), axis=0)\n",
    "embeddings_max = [np.max(np.abs(e), axis=0) for e in embeddings]\n",
    "embeddings_merged.shape"
   ]
  },
  {
   "cell_type": "markdown",
   "metadata": {},
   "source": [
    "# Visualization"
   ]
  },
  {
   "cell_type": "markdown",
   "metadata": {},
   "source": [
    "## Functions / Setup"
   ]
  },
  {
   "cell_type": "code",
   "execution_count": null,
   "metadata": {
    "tags": []
   },
   "outputs": [],
   "source": [
    "feature_groups"
   ]
  },
  {
   "cell_type": "code",
   "execution_count": null,
   "metadata": {
    "tags": []
   },
   "outputs": [],
   "source": [
    "group_offsets = [\n",
    "    (3,0),          # cellfre rna\n",
    "    (-1.5,-2.5),    # immune system\n",
    "    (-3,0),         # metabolomics\n",
    "    (0,3),          # microbiome\n",
    "    (2.5,2.5),      # plasma_luminex\n",
    "    (-2.5,2.5),     # plasma_somalogic\n",
    "    (1.5,-2.5)]     # serum_luminex\n",
    "\n",
    "group_scaling = [\n",
    "    1, # cellfre rna\n",
    "    1, # immune system\n",
    "    1, # metabolomics\n",
    "    1, # microbiome\n",
    "    0.5, # plasma_luminex\n",
    "    1, # plasma_somalogic\n",
    "    0.5  # serum_luminex\n",
    "]"
   ]
  },
  {
   "cell_type": "code",
   "execution_count": null,
   "metadata": {
    "tags": []
   },
   "outputs": [],
   "source": [
    "def init_kwargs(kwargs, **defaults):\n",
    "\n",
    "    if defaults is None:\n",
    "        defaults = dict()\n",
    "\n",
    "    if kwargs is not None:\n",
    "        return {**defaults, **kwargs}\n",
    "    else:\n",
    "        return defaults"
   ]
  },
  {
   "cell_type": "code",
   "execution_count": null,
   "metadata": {
    "tags": []
   },
   "outputs": [],
   "source": [
    "def remove_intraomic_edges(msk):\n",
    "    \n",
    "    offset = 0\n",
    "    for fg, s in zip(feature_groups, select_embeddings):\n",
    "        print(fg)\n",
    "\n",
    "#         print(\"* m1\")\n",
    "        m1 = np.zeros(msk.shape, dtype=bool)\n",
    "        m1[offset:offset+len(s),:] = 1\n",
    "\n",
    "#         print(\"* m2\")\n",
    "        m2 = np.zeros(msk.shape, dtype=bool)\n",
    "        m2[:,offset:offset+len(s)] = 1\n",
    "\n",
    "#         print(\"* m1 * m2\")\n",
    "        m = m1 * m2\n",
    "\n",
    "#         print(\"* msk = 0\")\n",
    "        msk[m] = 0\n",
    "\n",
    "        offset += len(s)"
   ]
  },
  {
   "cell_type": "code",
   "execution_count": null,
   "metadata": {
    "tags": []
   },
   "outputs": [],
   "source": [
    "def draw_network(edges=None, draw_legend=False, verbose=0, nodes_style=None, edges_style=None, ax=None):\n",
    "    \n",
    "    if ax is None:\n",
    "        ax = plt.gca()\n",
    "    \n",
    "    # draw edges\n",
    "    if edges is not None:\n",
    "        \n",
    "        if not isinstance(edges, list):\n",
    "            edges = [edges]\n",
    "        \n",
    "        if edges_style is None:\n",
    "            edges_style = [{}]\n",
    "        else:\n",
    "            if not isinstance(edges_style, list):\n",
    "                edges_style = [edges_style] * len(edges)\n",
    "                \n",
    "        for i, (e, s) in enumerate(zip(edges, edges_style)):\n",
    "            draw_edges(e, ax=ax, zorder=-1000 + i, **s)\n",
    "    \n",
    "    if verbose > 2:\n",
    "        print(\"plot nodes\")\n",
    "        \n",
    "    \n",
    "    if nodes_style is None:\n",
    "        nodes_style = {}\n",
    "    if not isinstance(nodes_style, list):\n",
    "        nodes_style = [nodes_style] * len(fg)\n",
    "        \n",
    "    for i_fg, feature_group in enumerate(feature_groups): \n",
    "        color = pregnancy_multiomics_subset_info[feature_group][\"color\"]\n",
    "        e = embeddings[i_fg].copy()\n",
    "        e[:,0] = e[:,0] / embeddings_max[i_fg][0] * group_scaling[i_fg] + group_offsets[i_fg][0]\n",
    "        e[:,1] = e[:,1] / embeddings_max[i_fg][1] * group_scaling[i_fg] + group_offsets[i_fg][1]\n",
    "\n",
    "        ax.scatter(\n",
    "            e[:,0], e[:,1], \n",
    "            **init_kwargs(\n",
    "                nodes_style[i_fg], \n",
    "                s=50 if draw_legend else 1, \n",
    "                label=feature_group, \n",
    "                zorder=-100, \n",
    "                c=color))\n",
    "\n",
    "    if draw_legend:\n",
    "        ax.legend()\n",
    "    \n",
    "    ax.axis(\"off\");\n",
    "    if verbose > 2:\n",
    "        print(\"finalizing figure\")"
   ]
  },
  {
   "cell_type": "code",
   "execution_count": null,
   "metadata": {
    "tags": []
   },
   "outputs": [],
   "source": [
    "def draw_edges(edges, ax=None, verbose=0, **edges_kwargs):\n",
    "    \n",
    "    if ax is None:\n",
    "        ax = plt.gca()\n",
    "    \n",
    "    msk_offsets = np.insert(np.cumsum([len(e) for e in select_embeddings]), 0,0)\n",
    "    \n",
    "    for i_rg, row_group in enumerate(feature_groups): \n",
    "\n",
    "        if verbose > 0:\n",
    "            print(row_group)\n",
    "\n",
    "        # prepare embeddings\n",
    "\n",
    "        e_rg = embeddings[i_rg].copy()\n",
    "\n",
    "        # normalize embeddings\n",
    "        e_rg[:,0] = e_rg[:,0] / embeddings_max[i_rg][0] * group_scaling[i_rg] + group_offsets[i_rg][0]\n",
    "        e_rg[:,1] = e_rg[:,1] / embeddings_max[i_rg][1] * group_scaling[i_rg] + group_offsets[i_rg][1]\n",
    "\n",
    "        msk_rows = np.zeros(edges.shape[1], dtype=bool)\n",
    "        msk_rows[msk_offsets[i_rg]:msk_offsets[i_rg + 1]] = select_embeddings[i_rg]\n",
    "\n",
    "        edges_rows = edges[msk_rows, :]\n",
    "\n",
    "        for i_cg, col_group in enumerate(feature_groups): \n",
    "\n",
    "            if i_cg < i_rg:\n",
    "                if verbose > 1:\n",
    "                    print(\"  *\", col_group)\n",
    "\n",
    "                e_cg = embeddings[i_cg].copy()\n",
    "                e_cg[:,0] = e_cg[:,0] / embeddings_max[i_cg][0] * group_scaling[i_cg] + group_offsets[i_cg][0]\n",
    "                e_cg[:,1] = e_cg[:,1] / embeddings_max[i_cg][1] * group_scaling[i_cg] + group_offsets[i_cg][1]\n",
    "\n",
    "                if verbose > 2:\n",
    "                    print(f\"    * row vars: {e_rg.shape[0]:10d} / {embeddings[i_rg].shape[0]:10d}\")\n",
    "                    print(f\"    * col vars: {e_cg.shape[0]:10d} / {embeddings[i_cg].shape[0]:10d}\")\n",
    "\n",
    "                msk_cols = np.zeros(edges.shape[1], dtype=bool)\n",
    "                msk_cols[msk_offsets[i_cg]:msk_offsets[i_cg + 1]] = select_embeddings[i_cg]\n",
    "\n",
    "                edges_rows_cols = edges_rows[:, msk_cols]\n",
    "\n",
    "                # coordinates for edges\n",
    "                coo_rg = np.repeat(e_rg, e_cg.shape[0], axis=0)\n",
    "                coo_cg = np.tile(e_cg.transpose(), e_rg.shape[0]).transpose()\n",
    "                coo = np.swapaxes(np.stack((coo_rg, coo_cg), axis=2), -1, -2)\n",
    "\n",
    "                coo = coo[edges_rows_cols.astype(bool).A.flatten()]\n",
    "\n",
    "                if verbose > 2:\n",
    "                    print(\"    * draw\")\n",
    "\n",
    "                line_collection = LineCollection(\n",
    "                    coo,\n",
    "                    **init_kwargs(\n",
    "                        edges_kwargs, \n",
    "                        color=\"grey\",\n",
    "                        alpha=0.1,\n",
    "                        linewidth=0.5)\n",
    "                    )\n",
    "                \n",
    "                ax.add_collection(line_collection)\n",
    "\n",
    "#             if i_cg > 1:\n",
    "#                 break\n",
    "\n",
    "#         if i_rg > 1:\n",
    "#             break\n",
    "            \n",
    "        if verbose > 0:\n",
    "            print()"
   ]
  },
  {
   "cell_type": "code",
   "execution_count": null,
   "metadata": {
    "tags": []
   },
   "outputs": [],
   "source": [
    "def expand(m):\n",
    "    \"\"\"Expands data to original data size (before dropping homogeneous value columns and duplicates)\"\"\"\n",
    "\n",
    "    tmp = m[:,data_tp34_msk_unique_inverse][data_tp34_msk_unique_inverse,:]\n",
    "\n",
    "    # pad with zeros\n",
    "    tmp = scipy.sparse.csr_matrix((tmp.data, tmp.indices, tmp.indptr), shape=(tmp.shape[0], tmp.shape[1] + 1), copy=True)\n",
    "    tmp = scipy.sparse.vstack([tmp, scipy.sparse.csr_matrix((1 , tmp.shape[1]))])\n",
    "\n",
    "    # calculate index\n",
    "    n = np.concatenate(select_embeddings).size\n",
    "    idx = np.repeat(data_tp34_msk_nunique2.sum(), n)\n",
    "    idx[data_tp34_msk_nunique2] = np.arange(data_tp34_msk_nunique2.sum(), dtype=int)\n",
    "\n",
    "    # finalize matrix\n",
    "    return tmp[idx,:][:,idx]"
   ]
  },
  {
   "cell_type": "code",
   "execution_count": null,
   "metadata": {
    "tags": []
   },
   "outputs": [],
   "source": [
    "def get_file(file_name, out_dir=f\"_out/applications/{notebook_name}\"):\n",
    "    out_dir = pathlib.Path(out_dir)\n",
    "    out_dir.mkdir(parents=True, exist_ok=True)\n",
    "    return out_dir / file_name"
   ]
  },
  {
   "cell_type": "code",
   "execution_count": null,
   "metadata": {
    "tags": []
   },
   "outputs": [],
   "source": [
    "nodes_style1=dict(\n",
    "    linewidths=0,\n",
    "    s=0.5)\n",
    "\n",
    "nodes_style2=dict(\n",
    "    linewidths=0,\n",
    "    s=1)\n",
    "\n",
    "edges_style_single =dict(\n",
    "    color=\"grey\",\n",
    "    alpha=0.05,\n",
    "    linewidth=0.01)\n",
    "\n",
    "edges_style4_under =dict(\n",
    "    color=\"silver\",\n",
    "    alpha=0.5,\n",
    "    linewidth=0.01)\n",
    "\n",
    "edges_style4_over =dict(\n",
    "    color=[0.2] * 3,\n",
    "    alpha=0.05,\n",
    "    linewidth=0.02)"
   ]
  },
  {
   "cell_type": "code",
   "execution_count": null,
   "metadata": {},
   "outputs": [],
   "source": []
  },
  {
   "cell_type": "markdown",
   "metadata": {},
   "source": [
    "## Prepare"
   ]
  },
  {
   "cell_type": "code",
   "execution_count": null,
   "metadata": {
    "tags": []
   },
   "outputs": [],
   "source": [
    "# # look at embeddings\n",
    "# fig, ax = plt.subplots(1,1, figsize=(4,3), dpi=150)\n",
    "# draw_network(nodes_style=[nodes_style1] * 1 + [nodes_style2] * 6, ax=ax)"
   ]
  },
  {
   "cell_type": "markdown",
   "metadata": {},
   "source": [
    "### Trimester 3"
   ]
  },
  {
   "cell_type": "code",
   "execution_count": null,
   "metadata": {
    "tags": []
   },
   "outputs": [],
   "source": [
    "%%time\n",
    "adj1 = expand(data_tp3_topk_cor_sparsematrix)"
   ]
  },
  {
   "cell_type": "code",
   "execution_count": null,
   "metadata": {
    "tags": []
   },
   "outputs": [],
   "source": [
    "%%time\n",
    "adj1_diff34 = expand(data_tp34_topk_diff_sparsematrix).multiply(adj1.astype(bool))"
   ]
  },
  {
   "cell_type": "code",
   "execution_count": null,
   "metadata": {
    "tags": []
   },
   "outputs": [],
   "source": [
    "%%time\n",
    "# separate cellfree from other omics for visualization purposes\n",
    "\n",
    "msk_cellfree = data_preg[feature_groups].columns.get_level_values(0) == \"cellfree_rna\"\n",
    "\n",
    "diag = scipy.sparse.spdiags((~msk_cellfree).astype(int), 0, *adj1.shape)\n",
    "adj1_remaining = (adj1.T * diag).T * diag\n",
    "adj1_remaining.eliminate_zeros()\n",
    "\n",
    "adj1_cellfree = adj1 - adj1_remaining\n",
    "adj1_remaining.eliminate_zeros()"
   ]
  },
  {
   "cell_type": "code",
   "execution_count": null,
   "metadata": {
    "tags": []
   },
   "outputs": [],
   "source": [
    "%%time\n",
    "fig, ax = plt.subplots(1,1, figsize=(4,3), dpi=300)\n",
    "draw_network(\n",
    "    nodes_style=[nodes_style1] * 1 + [nodes_style2] * 6,\n",
    "    edges=[adj1_cellfree, adj1_remaining],\n",
    "    edges_style=[edges_style_single, edges_style_single],\n",
    "    ax=ax)\n",
    "fig.savefig(get_file(\"network_pregnancy_t3_topk_monochrome.png\"), bbox_inches='tight')"
   ]
  },
  {
   "cell_type": "code",
   "execution_count": null,
   "metadata": {
    "tags": []
   },
   "outputs": [],
   "source": [
    "%%time\n",
    "fig, ax = plt.subplots(1,1, figsize=(4,3), dpi=300)\n",
    "draw_network(\n",
    "    nodes_style=[nodes_style1] * 1 + [nodes_style2] * 6,\n",
    "    edges=[adj1, adj1_diff34],\n",
    "#     edges_style=[edges_style4_under, edges_style_diff],\n",
    "    edges_style=[edges_style4_under, edges_style4_over],\n",
    "    ax=ax)\n",
    "fig.savefig(get_file(\"network_pregnancy_t3_topk_diff.png\"), bbox_inches='tight')\n",
    "fig.savefig(get_file(\"multiomics_pregnancy_t3.png\", out_dir=\"../_out/figures\"), bbox_inches='tight')"
   ]
  },
  {
   "cell_type": "markdown",
   "metadata": {},
   "source": [
    "### Postpartum"
   ]
  },
  {
   "cell_type": "code",
   "execution_count": null,
   "metadata": {
    "tags": []
   },
   "outputs": [],
   "source": [
    "%%time\n",
    "adj2 = expand(data_tp4_topk_cor_sparsematrix)"
   ]
  },
  {
   "cell_type": "code",
   "execution_count": null,
   "metadata": {
    "tags": []
   },
   "outputs": [],
   "source": [
    "%%time\n",
    "adj2_diff34 = scipy.sparse.csr_matrix.multiply(\n",
    "    expand(data_tp34_topk_diff_sparsematrix), adj2.astype(bool))\n",
    "adj2_diff34.eliminate_zeros()"
   ]
  },
  {
   "cell_type": "code",
   "execution_count": null,
   "metadata": {},
   "outputs": [],
   "source": []
  },
  {
   "cell_type": "code",
   "execution_count": null,
   "metadata": {
    "tags": []
   },
   "outputs": [],
   "source": [
    "%%time\n",
    "diag = scipy.sparse.spdiags((~msk_cellfree).astype(int), 0, *adj2.shape)\n",
    "adj2_remaining = (adj2.T * diag).T * diag\n",
    "adj2_remaining.eliminate_zeros()\n",
    "\n",
    "adj2_cellfree = adj2 - adj2_remaining\n",
    "adj2_remaining.eliminate_zeros()"
   ]
  },
  {
   "cell_type": "code",
   "execution_count": null,
   "metadata": {},
   "outputs": [],
   "source": []
  },
  {
   "cell_type": "code",
   "execution_count": null,
   "metadata": {
    "tags": []
   },
   "outputs": [],
   "source": [
    "%%time\n",
    "fig, ax = plt.subplots(1,1, figsize=(4,3), dpi=300)\n",
    "draw_network(\n",
    "    nodes_style=[nodes_style1] * 1 + [nodes_style2] * 6,\n",
    "    edges=[adj2_cellfree, adj2_remaining],\n",
    "    edges_style=[edges_style_single, edges_style_single],\n",
    "    ax=ax)\n",
    "fig.savefig(get_file(\"network_pregnancy_t4_topk_monochrome.png\"), bbox_inches='tight')"
   ]
  },
  {
   "cell_type": "code",
   "execution_count": null,
   "metadata": {
    "tags": []
   },
   "outputs": [],
   "source": [
    "%%time\n",
    "fig, ax = plt.subplots(1,1, figsize=(4,3), dpi=300)\n",
    "draw_network(\n",
    "    nodes_style=[nodes_style1] * 1 + [nodes_style2] * 6,\n",
    "    edges=[adj2, adj2_diff34],\n",
    "#     edges_style=[edges_style4_under, edges_style_diff],\n",
    "    edges_style=[edges_style4_under, edges_style4_over],\n",
    "    ax=ax)\n",
    "fig.savefig(get_file(\"network_pregnancy_t4_topk_diff.png\"), bbox_inches='tight')"
   ]
  },
  {
   "cell_type": "markdown",
   "metadata": {},
   "source": [
    "### Legend"
   ]
  },
  {
   "cell_type": "code",
   "execution_count": null,
   "metadata": {
    "tags": []
   },
   "outputs": [],
   "source": [
    "patchList = []\n",
    "for fg in feature_groups:\n",
    "        data_key = Line2D(\n",
    "            [0], [0], marker=\"o\",  color='w', \n",
    "            markerfacecolor=pregnancy_multiomics_subset_info[fg][\"color\"], \n",
    "            label=pregnancy_multiomics_subset_info[fg][\"name_full\"], \n",
    "            markersize=10)\n",
    "        patchList.append(data_key)\n",
    "\n",
    "fig, axes = plt.subplots(1,1, dpi=150, figsize=(2,2))\n",
    "ax = axes\n",
    "ax.legend(handles=patchList, loc=\"upper left\", frameon=False)\n",
    "ax.axis(\"off\")\n",
    "fig.savefig('../_out/figures/multiomics_legend.pdf', bbox_inches='tight')"
   ]
  },
  {
   "cell_type": "markdown",
   "metadata": {},
   "source": [
    "## Final figure"
   ]
  },
  {
   "cell_type": "code",
   "execution_count": null,
   "metadata": {
    "tags": []
   },
   "outputs": [],
   "source": [
    "%%time\n",
    "fig, ax = plt.subplots(1,1, figsize=(4,3), dpi=300)\n",
    "draw_network(\n",
    "    nodes_style=[nodes_style1] * 1 + [nodes_style2] * 6,\n",
    "    edges=[adj1, adj1_diff34],\n",
    "    edges_style=[edges_style4_under, edges_style4_over],\n",
    "    ax=ax)\n",
    "ax.set_rasterization_zorder(-1)\n",
    "\n",
    "# first legend ()\n",
    "patchList = []\n",
    "for fg in feature_groups:\n",
    "        data_key = Line2D(\n",
    "            [0], [0], marker=\"o\",  color=(1,1,1,0), lw=1, markeredgewidth=.5,\n",
    "            markerfacecolor=pregnancy_multiomics_subset_info[fg][\"color\"], \n",
    "            label=pregnancy_multiomics_subset_info[fg][\"name_full\"], \n",
    "            markersize=5)\n",
    "        patchList.append(data_key)\n",
    "\n",
    "# second legend ()\n",
    "patchList2 = []\n",
    "patchList2.append(Line2D(\n",
    "    [0], [0], markerfacecolor=(1,1,1,0), \n",
    "    color=(0.5,0.5,0.5,1), lw=0.5, label=\"Correlations at 3rd trimester\"))\n",
    "patchList2.append(Line2D(\n",
    "    [0], [0], markerfacecolor=(1,1,1,0), \n",
    "    color=(0,0,0,1), lw=1, label=\"Modified correlations after birth\"))\n",
    "\n",
    "legend1 = ax.legend(handles=patchList2, loc=(0.75,0.87), frameon=False, fontsize=5)\n",
    "legend1.set_zorder(102)\n",
    "\n",
    "ax.legend(handles=patchList, loc=(0.75,0.03), frameon=False, fontsize=5).set_zorder(102)\n",
    "ax.add_artist(legend1)\n",
    "\n",
    "fig.savefig(\n",
    "    get_file(\"multiomics_pregnancy_t3_with-legend.pdf\", out_dir=\"../_out/figures\"), \n",
    "    bbox_inches='tight')"
   ]
  },
  {
   "cell_type": "markdown",
   "metadata": {},
   "source": [
    "# Edges of interest"
   ]
  },
  {
   "cell_type": "markdown",
   "metadata": {},
   "source": [
    "## Functions"
   ]
  },
  {
   "cell_type": "code",
   "execution_count": null,
   "metadata": {},
   "outputs": [],
   "source": [
    "def save_edges(name, cor1, cor2, adj):\n",
    "    \n",
    "    with pd.ExcelWriter(get_file(f'edges___{name}.xlsx'), engine='xlsxwriter') as writer:\n",
    "\n",
    "        stats = []\n",
    "\n",
    "        for fg1_i in range(7):\n",
    "\n",
    "            dfs = []\n",
    "            for fg2_i in range(7):\n",
    "\n",
    "                if fg1_i < fg2_i:\n",
    "\n",
    "                    # get feature group names / identifiers\n",
    "                    fg1 = feature_groups[fg1_i]\n",
    "                    fg2 = feature_groups[fg2_i]\n",
    "\n",
    "                    # masks to select features for each feature group\n",
    "                    msk_fg1 = (data_preg[feature_groups].columns.get_level_values(0) == fg1) & np.concatenate(select_embeddings)\n",
    "                    msk_fg2 = (data_preg[feature_groups].columns.get_level_values(0) == fg2) & np.concatenate(select_embeddings)\n",
    "\n",
    "                    # get variable names based on feature masks\n",
    "                    varname1 = data_preg[feature_groups].columns[msk_fg1]\n",
    "                    varname2 = data_preg[feature_groups].columns[msk_fg2]\n",
    "\n",
    "                    varidx1 = np.arange(data_preg[feature_groups].shape[1])[msk_fg1]\n",
    "                    varidx2 = np.arange(data_preg[feature_groups].shape[1])[msk_fg2]\n",
    "\n",
    "                    # mask and correlations for feature group pair\n",
    "                    values = adj[msk_fg1,:][:,msk_fg2].A\n",
    "                    msk = values.astype(bool)\n",
    "                    c1 = cor1[msk_fg1,:][:,msk_fg2].A\n",
    "                    c2 = cor2[msk_fg1,:][:,msk_fg2].A\n",
    "\n",
    "                    # index based on mask\n",
    "                    idx = np.where(msk)\n",
    "\n",
    "                    # log\n",
    "                    stats.append((feature_groups[fg1_i], feature_groups[fg2_i], msk.sum()))\n",
    "                    print(f\"{feature_groups[fg1_i]:20s} {feature_groups[fg2_i]:20s}: {msk.sum():10d}\")\n",
    "\n",
    "                    # data frame\n",
    "                    df = pd.DataFrame(collections.OrderedDict([\n",
    "                        (\"modality1\",     [varname1[r][0] for r,c in zip(*idx)]),\n",
    "                        (\"var_glob_idx1\", [varidx1[r] for r,c in zip(*idx)]),\n",
    "                        (\"var_loc_idx1\",  [int(re.sub(\"_.*$\", \"\", varname1[r][1])) for r,c in zip(*idx)]),\n",
    "                        (\"var_name1\",     [re.sub(\"^.*?_\", \"\", varname1[r][1]) for r,c in zip(*idx)]),\n",
    "                        (\"modality2\",     [varname2[c][0] for r,c in zip(*idx)]),\n",
    "                        (\"var_glob_idx2\", [varidx2[c] for r,c in zip(*idx)]),\n",
    "                        (\"var_loc_idx2\",  [int(re.sub(\"_.*$\", \"\", varname2[c][1])) for r,c in zip(*idx)]),\n",
    "                        (\"var_name2\",     [re.sub(\"^.*?_\", \"\", varname2[c][1]) for r,c in zip(*idx)]),\n",
    "                        (\"cor1\",          [c1[r, c] for r,c in zip(*idx)]),\n",
    "#                         (\"cor2\",          [c2[r, c] for r,c in zip(*idx)]),\n",
    "                        (\"cor2\",          [c1[r, c] - values[r, c] for r,c in zip(*idx)]),\n",
    "#                         (\"cor_absdiff\",   [np.abs(c1[r, c] - c2[r, c]) for r,c in zip(*idx)])\n",
    "                        (\"cor_absdiff\",   [np.abs(values[r, c]) for r,c in zip(*idx)])\n",
    "                    ]))\n",
    "                    dfs.append(df)\n",
    "            print()\n",
    "\n",
    "            # excel    \n",
    "            if len(dfs) > 0:\n",
    "                sheet_name = f\"{feature_groups[fg1_i]} ({len(dfs)})\"\n",
    "\n",
    "                dfs = pd.concat(dfs)\n",
    "\n",
    "                dfs.to_excel(writer, sheet_name=sheet_name, index=False)                  \n",
    "                workbook  = writer.book\n",
    "\n",
    "                worksheet = writer.sheets[sheet_name]\n",
    "                for k, v in pregnancy_multiomics_subset_info.items():\n",
    "                    f = workbook.add_format()\n",
    "                    f.set_bg_color(v[\"color\"])\n",
    "                    worksheet.conditional_format(\n",
    "                        f'A1:A{dfs.shape[0] + 1}', \n",
    "                        {\n",
    "                            'type': 'cell', \n",
    "                            'criteria': \"equal to\", \n",
    "                            \"value\": f'\"{k}\"', \n",
    "                            'format': f\n",
    "                        }\n",
    "                    )\n",
    "                    worksheet.conditional_format(\n",
    "                        f'E1:E{dfs.shape[0] + 1}', \n",
    "                        {\n",
    "                            'type': 'cell', \n",
    "                            'criteria': \"equal to\", \n",
    "                            \"value\": f'\"{k}\"', \n",
    "                            'format': f\n",
    "                        }\n",
    "                    )\n",
    "                worksheet.set_column(0, 2, 20)\n",
    "                worksheet.set_column(3, 3, 40)\n",
    "                worksheet.set_column(4, 6, 20)\n",
    "                worksheet.set_column(7, 7, 40)\n",
    "                worksheet.set_column(8, 10, 20)\n",
    "\n",
    "        # stats sheet\n",
    "        sheet_name = f\"_stats\"\n",
    "        df_stats = pd.DataFrame.from_records(\n",
    "            stats, \n",
    "            columns=[\"modality1\", \"modality2\", \"number of edges\"])\n",
    "        df_stats.to_excel(writer, sheet_name=sheet_name, index=False)  \n",
    "        worksheet = writer.sheets[sheet_name] \n",
    "        worksheet.set_column(0, 3, 20)\n",
    "        "
   ]
  },
  {
   "cell_type": "markdown",
   "metadata": {},
   "source": [
    "## Prepare"
   ]
  },
  {
   "cell_type": "markdown",
   "metadata": {},
   "source": [
    "Define cutoffs to reduce the correlations to investigate."
   ]
  },
  {
   "cell_type": "code",
   "execution_count": null,
   "metadata": {},
   "outputs": [],
   "source": [
    "%%time\n",
    "adj1_gt = adj1.copy()\n",
    "adj1_gt.data[np.abs(adj1_gt.data) <= 0.8] = 0\n",
    "adj1_gt.eliminate_zeros()"
   ]
  },
  {
   "cell_type": "code",
   "execution_count": null,
   "metadata": {},
   "outputs": [],
   "source": [
    "%%time\n",
    "adj1_diff34_gt = scipy.sparse.csr_matrix.multiply(\n",
    "    expand(data_tp34_topk_diff_sparsematrix), adj1_gt.astype(bool))\n",
    "adj1_diff34_gt.eliminate_zeros()"
   ]
  },
  {
   "cell_type": "code",
   "execution_count": null,
   "metadata": {},
   "outputs": [],
   "source": [
    "%%time\n",
    "adj2_gt = adj2.copy()\n",
    "adj2_gt.data[np.abs(adj2_gt.data) <= 0.8] = 0\n",
    "adj2_gt.eliminate_zeros()"
   ]
  },
  {
   "cell_type": "code",
   "execution_count": null,
   "metadata": {},
   "outputs": [],
   "source": [
    "%%time\n",
    "adj2_diff34_gt = scipy.sparse.csr_matrix.multiply(\n",
    "    expand(data_tp34_topk_diff_sparsematrix), adj2_gt.astype(bool))\n",
    "adj2_diff34_gt.eliminate_zeros()"
   ]
  },
  {
   "cell_type": "markdown",
   "metadata": {},
   "source": [
    "## Output"
   ]
  },
  {
   "cell_type": "code",
   "execution_count": null,
   "metadata": {},
   "outputs": [],
   "source": [
    "save_edges(\"tp3_tp4_gt0.8\", adj1, adj2, adj1_diff34_gt)"
   ]
  },
  {
   "cell_type": "code",
   "execution_count": null,
   "metadata": {},
   "outputs": [],
   "source": [
    "save_edges(\"tp4_tp3_gt0.8\", adj2, adj1, -adj2_diff34_gt)"
   ]
  },
  {
   "cell_type": "code",
   "execution_count": null,
   "metadata": {},
   "outputs": [],
   "source": [
    "save_edges(\"tp3_tp4_full\", adj1, adj2, adj1_diff34)"
   ]
  },
  {
   "cell_type": "code",
   "execution_count": null,
   "metadata": {},
   "outputs": [],
   "source": [
    "save_edges(\"tp4_tp3_full\", adj2, adj1, -adj2_diff34)"
   ]
  },
  {
   "cell_type": "code",
   "execution_count": null,
   "metadata": {},
   "outputs": [],
   "source": []
  }
 ],
 "metadata": {
  "kernelspec": {
   "display_name": "Python 3",
   "language": "python",
   "name": "python3"
  },
  "language_info": {
   "codemirror_mode": {
    "name": "ipython",
    "version": 3
   },
   "file_extension": ".py",
   "mimetype": "text/x-python",
   "name": "python",
   "nbconvert_exporter": "python",
   "pygments_lexer": "ipython3",
   "version": "3.9.1"
  },
  "toc-autonumbering": true
 },
 "nbformat": 4,
 "nbformat_minor": 4
}
