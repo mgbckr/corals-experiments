{
 "cells": [
  {
   "cell_type": "markdown",
   "metadata": {},
   "source": [
    "# Preamble"
   ]
  },
  {
   "cell_type": "markdown",
   "metadata": {},
   "source": [
    "This is the code to generate the preprocessed single cell data. This requires to install `flowCore` which is not pre-installed in the Docker container and was not tested.\n",
    "Nevertheless this files gives a general idea on how the data was preprocessed. \n",
    "\n",
    "**Note:** The result of this notebook `immuneclock_singlecell_unstim.h5` is provided (see `README.md`)."
   ]
  },
  {
   "cell_type": "markdown",
   "metadata": {},
   "source": [
    "# General parameters"
   ]
  },
  {
   "cell_type": "code",
   "execution_count": null,
   "metadata": {
    "tags": [
     "parameters"
    ]
   },
   "outputs": [],
   "source": [
    "stimulations = \"all\"\n",
    "n_threads = 64\n",
    "n_jobs_fcs = 64"
   ]
  },
  {
   "cell_type": "markdown",
   "metadata": {},
   "source": [
    "# Imports"
   ]
  },
  {
   "cell_type": "code",
   "execution_count": null,
   "metadata": {},
   "outputs": [],
   "source": [
    "%load_ext autoreload\n",
    "%autoreload 2\n",
    "\n",
    "# disable parallelization for BLAS and co.\n",
    "from corals.threads import set_threads_for_external_libraries\n",
    "set_threads_for_external_libraries(n_threads=16)\n",
    "\n",
    "# general\n",
    "import re\n",
    "import collections\n",
    "import pickle\n",
    "import warnings \n",
    "import joblib\n",
    "import pathlib\n",
    "\n",
    "# data\n",
    "import numpy as np\n",
    "import pandas as pd\n",
    "import h5py\n",
    "\n",
    "# ml / stats\n",
    "import sklearn\n",
    "import scipy.stats\n",
    "\n",
    "# plotting\n",
    "import matplotlib.pyplot as plt\n",
    "\n",
    "# nalab\n",
    "from coralsarticle.data.process.fcs.load import map_categories\n",
    "from coralsarticle.data.process.fcs.load import load_fcs"
   ]
  },
  {
   "cell_type": "code",
   "execution_count": null,
   "metadata": {},
   "outputs": [],
   "source": [
    "# even though it says R version 3.6.3 (the one installed on the server) it still uses 4.0.3 (check with `import rpy2.robjects as robjects; robjects.r[\"version\"]`)\n",
    "%run -m rpy2.situation"
   ]
  },
  {
   "cell_type": "markdown",
   "metadata": {
    "execution": {
     "iopub.execute_input": "2021-06-07T03:55:47.710325Z",
     "iopub.status.busy": "2021-06-07T03:55:47.710162Z",
     "iopub.status.idle": "2021-06-07T03:55:47.725264Z",
     "shell.execute_reply": "2021-06-07T03:55:47.724721Z",
     "shell.execute_reply.started": "2021-06-07T03:55:47.710307Z"
    }
   },
   "source": [
    "# Load Cytof data"
   ]
  },
  {
   "cell_type": "code",
   "execution_count": null,
   "metadata": {},
   "outputs": [],
   "source": [
    "data_dir = pathlib.Path(\"../../nalab-data/data\")\n",
    "fcs_dir = data_dir / \"large/fcs/immune_clock/Training_gated_with-stimulations/fcs_files\""
   ]
  },
  {
   "cell_type": "code",
   "execution_count": null,
   "metadata": {},
   "outputs": [],
   "source": [
    "%%time\n",
    "if stimulations == \"unstim\":\n",
    "    cytof_filenames = [f for f in list(fcs_dir.glob(\"*\")) if re.match(\"Gates_PTLG[0-9]*?_[23]_Unstim.*\", f.name)]\n",
    "elif stimulations == \"all\":\n",
    "    cytof_filenames = [f for f in list(fcs_dir.glob(\"*\")) if re.match(\"Gates_PTLG[0-9]*?_[23]_.*\", f.name)]\n",
    "else:\n",
    "    raise ValueError(\"Unknown stimulation selector:\", stimulations)\n",
    "\n",
    "print(\"Number of FCS files:\", len(cytof_filenames))"
   ]
  },
  {
   "cell_type": "code",
   "execution_count": null,
   "metadata": {},
   "outputs": [],
   "source": [
    "%%time\n",
    "cytof = load_fcs(cytof_filenames, n_jobs=n_jobs_fcs)"
   ]
  },
  {
   "cell_type": "code",
   "execution_count": null,
   "metadata": {},
   "outputs": [],
   "source": [
    "%%time\n",
    "# extract patient ids\n",
    "map_code_to_patientid = {\n",
    "    i:int(re.search(\".*PTLG0*(.*?)_\", c).group(1)) \n",
    "    for i,c in enumerate(cytof[\"file_name\"].cat.categories)}\n",
    "patient_id_column = cytof[\"file_name\"].cat.codes.apply(lambda x: map_code_to_patientid[x])"
   ]
  },
  {
   "cell_type": "code",
   "execution_count": null,
   "metadata": {},
   "outputs": [],
   "source": [
    "%%time\n",
    "# extract timepoints\n",
    "def fix_timepoint(t):\n",
    "    if t == \"BL\":\n",
    "        return \"T1\"\n",
    "    elif t == \"1\":\n",
    "        return \"T2\"\n",
    "    elif t == \"2\":\n",
    "        return \"T3\"\n",
    "    elif t == \"3\":\n",
    "        return \"PP\"\n",
    "    else:\n",
    "        raise ValueError(f\"Unknown timepoint: {t}\")\n",
    "    \n",
    "map_code_to_timepoint = {\n",
    "    c:fix_timepoint(re.search(\".*PTLG0.*?_(.*?)_.*\", c).group(1)) \n",
    "    for c in cytof[\"file_name\"].cat.categories}\n",
    "\n",
    "timepoint_column = map_categories(cytof[\"file_name\"], map_code_to_timepoint)"
   ]
  },
  {
   "cell_type": "code",
   "execution_count": null,
   "metadata": {},
   "outputs": [],
   "source": [
    "%%time\n",
    "# extract cell types\n",
    "map_code_to_celltype = {\n",
    "    c:re.search(\".*(Unstim|LPS_100|IL_100|IFNa_100)_(.*?)\\.fcs\", c).group(2) \n",
    "    for c in cytof[\"file_name\"].cat.categories}\n",
    "cell_type_column = map_categories(cytof[\"file_name\"], map_code_to_celltype)"
   ]
  },
  {
   "cell_type": "code",
   "execution_count": null,
   "metadata": {},
   "outputs": [],
   "source": [
    "%%time\n",
    "# extract stimulation\n",
    "map_code_to_stimulation = {\n",
    "    c:re.search(\".*(Unstim|LPS_100|IL_100|IFNa_100)_.*?\\.fcs\", c).group(1) \n",
    "    for c in cytof[\"file_name\"].cat.categories}\n",
    "stimulation_column = map_categories(cytof[\"file_name\"], map_code_to_stimulation)\n",
    "stimulation_column"
   ]
  },
  {
   "cell_type": "code",
   "execution_count": null,
   "metadata": {},
   "outputs": [],
   "source": [
    "# add patient, cell type and timepoint column\n",
    "cytof.insert(0, \"patient_id\", patient_id_column)\n",
    "cytof.insert(1, \"timepoint\", timepoint_column)\n",
    "cytof.insert(2, \"cell_type\", cell_type_column)\n",
    "cytof.insert(3, \"stimulation\", stimulation_column)"
   ]
  },
  {
   "cell_type": "code",
   "execution_count": null,
   "metadata": {},
   "outputs": [],
   "source": [
    "# drop file columns\n",
    "cytof.drop(columns=\"file_name\", inplace=True)"
   ]
  },
  {
   "cell_type": "code",
   "execution_count": null,
   "metadata": {},
   "outputs": [],
   "source": [
    "out_file = pathlib.Path(\"../data/processed\") / f\"immuneclock_singlecell_{stimulations}.h5\"\n",
    "out_file.parent.mkdir(parents=True, exist_ok=True)\n",
    "\n",
    "cytof.to_hdf(out_file, key=\"immuneclock_singlecell\", format=\"table\")"
   ]
  }
 ],
 "metadata": {
  "kernelspec": {
   "display_name": "Python 3",
   "language": "python",
   "name": "python3"
  },
  "language_info": {
   "codemirror_mode": {
    "name": "ipython",
    "version": 3
   },
   "file_extension": ".py",
   "mimetype": "text/x-python",
   "name": "python",
   "nbconvert_exporter": "python",
   "pygments_lexer": "ipython3",
   "version": "3.9.1"
  }
 },
 "nbformat": 4,
 "nbformat_minor": 4
}
