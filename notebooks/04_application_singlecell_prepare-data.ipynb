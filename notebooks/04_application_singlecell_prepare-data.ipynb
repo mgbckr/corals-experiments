{
 "cells": [
  {
   "cell_type": "markdown",
   "metadata": {},
   "source": [
    "# Preamble"
   ]
  },
  {
   "cell_type": "markdown",
   "metadata": {},
   "source": [
    "This is the code to generate the preprocessed single cell data. Some libraries for this are not included.\n",
    "Nevertheless this files gives a general idea on how the data was preprocessed. The resulting files are provided."
   ]
  },
  {
   "cell_type": "markdown",
   "metadata": {},
   "source": [
    "# General parameters"
   ]
  },
  {
   "cell_type": "code",
   "execution_count": 1,
   "metadata": {
    "tags": [
     "parameters"
    ]
   },
   "outputs": [],
   "source": [
    "stimulations = \"all\"\n",
    "n_threads = 64\n",
    "n_jobs_fcs = 64"
   ]
  },
  {
   "cell_type": "markdown",
   "metadata": {},
   "source": [
    "# Imports"
   ]
  },
  {
   "cell_type": "code",
   "execution_count": 2,
   "metadata": {},
   "outputs": [],
   "source": [
    "%load_ext autoreload\n",
    "%autoreload 2\n",
    "\n",
    "# disable parallelization for BLAS and co.\n",
    "from nalabtools.utils.parallelization import set_threads_for_external_libraries\n",
    "set_threads_for_external_libraries(n_threads=n_threads)\n",
    "\n",
    "# general\n",
    "import re\n",
    "import collections\n",
    "import pickle\n",
    "import warnings \n",
    "import joblib\n",
    "import pathlib\n",
    "\n",
    "# data\n",
    "import numpy as np\n",
    "import pandas as pd\n",
    "import h5py\n",
    "\n",
    "# ml / stats\n",
    "import sklearn\n",
    "import scipy.stats\n",
    "\n",
    "# plotting\n",
    "import matplotlib.pyplot as plt\n",
    "\n",
    "# nalab\n",
    "import nalabtools\n",
    "from nalabtools.pandas.utils import map_categories\n",
    "import nalabdata"
   ]
  },
  {
   "cell_type": "code",
   "execution_count": 3,
   "metadata": {},
   "outputs": [
    {
     "name": "stdout",
     "output_type": "stream",
     "text": [
      "\u001b[1mrpy2 version:\u001b[0m\n",
      "3.4.5\n",
      "\u001b[1mPython version:\u001b[0m\n",
      "3.7.10 | packaged by conda-forge | (default, Feb 19 2021, 16:07:37) \n",
      "[GCC 9.3.0]\n",
      "\u001b[1mLooking for R's HOME:\u001b[0m\n",
      "    Environment variable R_HOME: /home/mgbckr/miniconda3/envs/analysis/lib/R\n",
      "    Calling `R RHOME`: /home/mgbckr/miniconda3/envs/analysis3.7/lib/R\n",
      "    Environment variable R_LIBS_USER: None\n",
      "    Warning: The environment variable R_HOME differs from the default R in the PATH.\n",
      "\u001b[1mR's additions to LD_LIBRARY_PATH:\u001b[0m\n",
      "/home/mgbckr/miniconda3/envs/analysis/lib/R/lib\n",
      "\u001b[1mR version:\u001b[0m\n",
      "    In the PATH: R version 3.6.3 (2020-02-29) -- \"Holding the Windsock\"\n",
      "    Loading R library from rpy2: OK\n",
      "\u001b[1mAdditional directories to load R packages from:\u001b[0m\n",
      "None\n",
      "\u001b[1mC extension compilation:\u001b[0m\n",
      "  include:\n",
      "  ['/home/mgbckr/miniconda3/envs/analysis/lib/R/include']\n",
      "  libraries:\n",
      "  ['R', 'pcre2-8', 'lzma', 'bz2', 'z', 'rt', 'dl', 'm', 'iconv', 'icuuc', 'icui18n']\n",
      "  library_dirs:\n",
      "  ['/home/mgbckr/miniconda3/envs/analysis/lib', '/home/mgbckr/miniconda3/envs/analysis/lib/R/lib', '/home/mgbckr/miniconda3/envs/analysis/lib']\n",
      "  extra_compile_args:\n",
      "  []\n",
      "  extra_link_args:\n",
      "  ['-Wl,--export-dynamic', '-fopenmp', '-Wl,-O2', '-Wl,--sort-common', '-Wl,--as-needed', '-Wl,-z,relro', '-Wl,-z,now', '-Wl,--disable-new-dtags', '-Wl,--gc-sections', '-Wl,-rpath,/home/mgbckr/miniconda3/envs/analysis/lib', '-Wl,-rpath-link,/home/mgbckr/miniconda3/envs/analysis/lib', '-Wl,-rpath-link,/home/mgbckr/miniconda3/envs/analysis/lib']\n"
     ]
    }
   ],
   "source": [
    "# even though it says R version 3.6.3 (the one installed on the server) it still uses 4.0.3 (check with `import rpy2.robjects as robjects; robjects.r[\"version\"]`)\n",
    "%run -m rpy2.situation"
   ]
  },
  {
   "cell_type": "markdown",
   "metadata": {
    "execution": {
     "iopub.execute_input": "2021-06-07T03:55:47.710325Z",
     "iopub.status.busy": "2021-06-07T03:55:47.710162Z",
     "iopub.status.idle": "2021-06-07T03:55:47.725264Z",
     "shell.execute_reply": "2021-06-07T03:55:47.724721Z",
     "shell.execute_reply.started": "2021-06-07T03:55:47.710307Z"
    }
   },
   "source": [
    "# Load Cytof data"
   ]
  },
  {
   "cell_type": "code",
   "execution_count": 4,
   "metadata": {},
   "outputs": [],
   "source": [
    "import nalabdata.fcs.load\n",
    "data_dir = pathlib.Path(\"../../nalab-data/data\")\n",
    "fcs_dir = data_dir / \"large/fcs/immune_clock/Training_gated_with-stimulations/fcs_files\""
   ]
  },
  {
   "cell_type": "code",
   "execution_count": 5,
   "metadata": {},
   "outputs": [
    {
     "name": "stdout",
     "output_type": "stream",
     "text": [
      "Number of FCS files: 3328\n",
      "CPU times: user 35.4 ms, sys: 2.81 ms, total: 38.2 ms\n",
      "Wall time: 94.1 ms\n"
     ]
    }
   ],
   "source": [
    "%%time\n",
    "if stimulations == \"unstim\":\n",
    "    cytof_filenames = [f for f in list(fcs_dir.glob(\"*\")) if re.match(\"Gates_PTLG[0-9]*?_[23]_Unstim.*\", f.name)]\n",
    "elif stimulations == \"all\":\n",
    "    cytof_filenames = [f for f in list(fcs_dir.glob(\"*\")) if re.match(\"Gates_PTLG[0-9]*?_[23]_.*\", f.name)]\n",
    "else:\n",
    "    raise ValueError(\"Unknown stimulation selector:\", stimulations)\n",
    "\n",
    "print(\"Number of FCS files:\", len(cytof_filenames))"
   ]
  },
  {
   "cell_type": "code",
   "execution_count": 6,
   "metadata": {},
   "outputs": [
    {
     "name": "stderr",
     "output_type": "stream",
     "text": [
      "R[write to console]: Loading required package: foreach\n",
      "\n",
      "R[write to console]: Loading required package: iterators\n",
      "\n",
      "R[write to console]: Loading required package: parallel\n",
      "\n",
      "R[write to console]: \n",
      "Attaching package: ‘dplyr’\n",
      "\n",
      "\n",
      "R[write to console]: The following object is masked from ‘package:flowCore’:\n",
      "\n",
      "    filter\n",
      "\n",
      "\n",
      "R[write to console]: The following objects are masked from ‘package:stats’:\n",
      "\n",
      "    filter, lag\n",
      "\n",
      "\n",
      "R[write to console]: The following objects are masked from ‘package:base’:\n",
      "\n",
      "    intersect, setdiff, setequal, union\n",
      "\n",
      "\n"
     ]
    },
    {
     "name": "stdout",
     "output_type": "stream",
     "text": [
      "CPU times: user 11min 29s, sys: 3min 4s, total: 14min 33s\n",
      "Wall time: 14min 45s\n"
     ]
    }
   ],
   "source": [
    "%%time\n",
    "cytof = nalabdata.fcs.load.load_fcs(cytof_filenames, n_jobs=n_jobs_fcs)"
   ]
  },
  {
   "cell_type": "code",
   "execution_count": 8,
   "metadata": {},
   "outputs": [
    {
     "name": "stdout",
     "output_type": "stream",
     "text": [
      "CPU times: user 41.8 s, sys: 3.3 s, total: 45.1 s\n",
      "Wall time: 45.1 s\n"
     ]
    }
   ],
   "source": [
    "%%time\n",
    "# extract patient ids\n",
    "map_code_to_patientid = {\n",
    "    i:int(re.search(\".*PTLG0*(.*?)_\", c).group(1)) \n",
    "    for i,c in enumerate(cytof[\"file_name\"].cat.categories)}\n",
    "patient_id_column = cytof[\"file_name\"].cat.codes.apply(lambda x: map_code_to_patientid[x])"
   ]
  },
  {
   "cell_type": "code",
   "execution_count": 9,
   "metadata": {},
   "outputs": [
    {
     "name": "stdout",
     "output_type": "stream",
     "text": [
      "CPU times: user 21.4 s, sys: 753 ms, total: 22.2 s\n",
      "Wall time: 22.1 s\n"
     ]
    }
   ],
   "source": [
    "%%time\n",
    "# extract timepoints\n",
    "def fix_timepoint(t):\n",
    "    if t == \"BL\":\n",
    "        return \"T1\"\n",
    "    elif t == \"1\":\n",
    "        return \"T2\"\n",
    "    elif t == \"2\":\n",
    "        return \"T3\"\n",
    "    elif t == \"3\":\n",
    "        return \"PP\"\n",
    "    else:\n",
    "        raise ValueError(f\"Unknown timepoint: {t}\")\n",
    "    \n",
    "map_code_to_timepoint = {\n",
    "    c:fix_timepoint(re.search(\".*PTLG0.*?_(.*?)_.*\", c).group(1)) \n",
    "    for c in cytof[\"file_name\"].cat.categories}\n",
    "\n",
    "timepoint_column = map_categories(cytof[\"file_name\"], map_code_to_timepoint)"
   ]
  },
  {
   "cell_type": "code",
   "execution_count": 13,
   "metadata": {},
   "outputs": [
    {
     "name": "stdout",
     "output_type": "stream",
     "text": [
      "CPU times: user 19.3 s, sys: 777 ms, total: 20.1 s\n",
      "Wall time: 20.1 s\n"
     ]
    }
   ],
   "source": [
    "%%time\n",
    "# extract cell types\n",
    "map_code_to_celltype = {\n",
    "    c:re.search(\".*(Unstim|LPS_100|IL_100|IFNa_100)_(.*?)\\.fcs\", c).group(2) \n",
    "    for c in cytof[\"file_name\"].cat.categories}\n",
    "cell_type_column = map_categories(cytof[\"file_name\"], map_code_to_celltype)"
   ]
  },
  {
   "cell_type": "code",
   "execution_count": 16,
   "metadata": {},
   "outputs": [
    {
     "name": "stdout",
     "output_type": "stream",
     "text": [
      "CPU times: user 19.8 s, sys: 740 ms, total: 20.5 s\n",
      "Wall time: 20.5 s\n"
     ]
    },
    {
     "data": {
      "text/plain": [
       "['IFNa_100', 'IFNa_100', 'IFNa_100', 'IFNa_100', 'IFNa_100', ..., 'Unstim', 'Unstim', 'Unstim', 'Unstim', 'Unstim']\n",
       "Length: 94167627\n",
       "Categories (4, object): ['IFNa_100', 'IL_100', 'LPS_100', 'Unstim']"
      ]
     },
     "execution_count": 16,
     "metadata": {},
     "output_type": "execute_result"
    }
   ],
   "source": [
    "%%time\n",
    "# extract stimulation\n",
    "map_code_to_stimulation = {\n",
    "    c:re.search(\".*(Unstim|LPS_100|IL_100|IFNa_100)_.*?\\.fcs\", c).group(1) \n",
    "    for c in cytof[\"file_name\"].cat.categories}\n",
    "stimulation_column = map_categories(cytof[\"file_name\"], map_code_to_stimulation)\n",
    "stimulation_column"
   ]
  },
  {
   "cell_type": "code",
   "execution_count": 17,
   "metadata": {},
   "outputs": [],
   "source": [
    "# add patient, cell type and timepoint column\n",
    "cytof.insert(0, \"patient_id\", patient_id_column)\n",
    "cytof.insert(1, \"timepoint\", timepoint_column)\n",
    "cytof.insert(2, \"cell_type\", cell_type_column)\n",
    "cytof.insert(3, \"stimulation\", stimulation_column)"
   ]
  },
  {
   "cell_type": "code",
   "execution_count": 18,
   "metadata": {},
   "outputs": [],
   "source": [
    "# drop file columns\n",
    "cytof.drop(columns=\"file_name\", inplace=True)"
   ]
  },
  {
   "cell_type": "code",
   "execution_count": null,
   "metadata": {},
   "outputs": [],
   "source": [
    "out_file = pathlib.Path(\"../data/processed\") / f\"immuneclock_singlecell_{stimulations}.h5\"\n",
    "out_file.parent.mkdir(parents=True, exist_ok=True)\n",
    "\n",
    "cytof.to_hdf(out_file, key=\"immuneclock_singlecell\", format=\"table\")"
   ]
  }
 ],
 "metadata": {
  "kernelspec": {
   "display_name": "Python 3",
   "language": "python",
   "name": "python3"
  },
  "language_info": {
   "codemirror_mode": {
    "name": "ipython",
    "version": 3
   },
   "file_extension": ".py",
   "mimetype": "text/x-python",
   "name": "python",
   "nbconvert_exporter": "python",
   "pygments_lexer": "ipython3",
   "version": "3.9.1"
  }
 },
 "nbformat": 4,
 "nbformat_minor": 4
}
