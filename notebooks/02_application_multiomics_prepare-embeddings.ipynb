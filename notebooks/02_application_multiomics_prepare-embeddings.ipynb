{
 "cells": [
  {
   "cell_type": "markdown",
   "metadata": {},
   "source": [
    "# Preamble"
   ]
  },
  {
   "cell_type": "markdown",
   "metadata": {},
   "source": [
    "Code to generate the embeddings used in `application_multiomics` to visualize results of the pregnancy multiomics study."
   ]
  },
  {
   "cell_type": "code",
   "execution_count": 1,
   "metadata": {
    "tags": []
   },
   "outputs": [],
   "source": [
    "notebook_name = \"application_multiomics_prepare-embeddings\"\n",
    "random_state = 42"
   ]
  },
  {
   "cell_type": "markdown",
   "metadata": {},
   "source": [
    "# Imports"
   ]
  },
  {
   "cell_type": "code",
   "execution_count": 2,
   "metadata": {
    "tags": []
   },
   "outputs": [],
   "source": [
    "%load_ext autoreload\n",
    "%autoreload 2\n",
    "\n",
    "# disable parallelization for BLAS and co.\n",
    "from corals.threads import set_threads_for_external_libraries\n",
    "set_threads_for_external_libraries(n_threads=16)\n",
    "\n",
    "# general\n",
    "import re\n",
    "import collections\n",
    "import pickle\n",
    "import warnings \n",
    "import joblib\n",
    "import pathlib\n",
    "import time\n",
    "\n",
    "# data\n",
    "import numpy as np\n",
    "import pandas as pd\n",
    "import h5py\n",
    "\n",
    "# ml / stats\n",
    "import sklearn\n",
    "import scipy.stats\n",
    "\n",
    "# plotting\n",
    "import matplotlib.pyplot as plt\n",
    "\n",
    "# init matplotlib defaults\n",
    "import matplotlib\n",
    "matplotlib.rcParams['figure.facecolor'] = 'white'"
   ]
  },
  {
   "cell_type": "code",
   "execution_count": 3,
   "metadata": {
    "tags": []
   },
   "outputs": [],
   "source": [
    "import sklearn.manifold\n",
    "import sklearn.impute\n",
    "import sklearn.pipeline"
   ]
  },
  {
   "cell_type": "code",
   "execution_count": 4,
   "metadata": {
    "tags": []
   },
   "outputs": [],
   "source": [
    "import coralsarticle.data.applications.multiomics\n",
    "from coralsarticle.data.utils import preprocess\n",
    "from corals.correlation.utils import preprocess_X"
   ]
  },
  {
   "cell_type": "markdown",
   "metadata": {},
   "source": [
    "# Data and functions"
   ]
  },
  {
   "cell_type": "code",
   "execution_count": 5,
   "metadata": {},
   "outputs": [],
   "source": [
    "data_preg = coralsarticle.data.applications.multiomics.load_pregnancy_multiomics_data()"
   ]
  },
  {
   "cell_type": "code",
   "execution_count": 6,
   "metadata": {},
   "outputs": [],
   "source": [
    "feature_groups = sorted(coralsarticle.data.applications.multiomics.pregnancy_multiomics_subset_info.keys())"
   ]
  },
  {
   "cell_type": "markdown",
   "metadata": {},
   "source": [
    "# Calculate and save feature embeddings"
   ]
  },
  {
   "cell_type": "code",
   "execution_count": 7,
   "metadata": {},
   "outputs": [
    {
     "data": {
      "text/plain": [
       "['cellfree_rna',\n",
       " 'immune_system',\n",
       " 'metabolomics',\n",
       " 'microbiome',\n",
       " 'plasma_luminex',\n",
       " 'plasma_somalogic',\n",
       " 'serum_luminex']"
      ]
     },
     "execution_count": 7,
     "metadata": {},
     "output_type": "execute_result"
    }
   ],
   "source": [
    "feature_groups"
   ]
  },
  {
   "cell_type": "code",
   "execution_count": 8,
   "metadata": {},
   "outputs": [],
   "source": [
    "tnse_perplexity = [\n",
    "    30, \n",
    "    30, \n",
    "    30, # metabolomics\n",
    "    30, # microbiome \n",
    "    30, \n",
    "    30, \n",
    "    30]"
   ]
  },
  {
   "cell_type": "code",
   "execution_count": 9,
   "metadata": {},
   "outputs": [
    {
     "name": "stdout",
     "output_type": "stream",
     "text": [
      "CPU times: user 1.11 ms, sys: 0 ns, total: 1.11 ms\n",
      "Wall time: 2.72 ms\n"
     ]
    }
   ],
   "source": [
    "%%time\n",
    "prefix = \"embedding___data_pregnancy___preprocessing_neg_n2___cor-spearman-direct___algorithm_tsne_v2___\"\n",
    "path =  pathlib.Path(f\"../_out/applications/{notebook_name}\")\n",
    "\n",
    "path.mkdir(parents=True, exist_ok=True)\n",
    "\n",
    "for i_r, row_group in enumerate(feature_groups):\n",
    "    \n",
    "#     if row_group == \"cellfree_rna\":\n",
    "#         continue\n",
    "        \n",
    "    file_name = f\"{prefix}featuregroup_{row_group}\"\n",
    "    \n",
    "    file_h5 = path / f\"{file_name}.h5\"\n",
    "    file_plot = path / f\"{file_name}.png\"\n",
    "    if not file_h5.exists():\n",
    "    \n",
    "        print(prefix, row_group)\n",
    "\n",
    "        X = data_preg[row_group].values\n",
    "        print(\"* size before preprocessing:\", X.shape[1])\n",
    "        X, msk = preprocess(\n",
    "            X, return_mask=True, \n",
    "            negative=True, drop_duplicates=False, min_nunique=2)\n",
    "        print(\"* size after preprocessing: \", X.shape[1])\n",
    "        \n",
    "        print(\"* preprocess\")\n",
    "        \n",
    "        X = scipy.stats.mstats.rankdata(X, axis=0)\n",
    "        X = preprocess_X(X)\n",
    "        print(\"* data matrix shape:\", X.shape)\n",
    "        \n",
    "        print(\"* tsne: \", end=\"\")\n",
    "        alg = sklearn.manifold.TSNE(n_components=2, perplexity=tnse_perplexity[i_r], random_state=random_state)\n",
    "        \n",
    "        time_start = time.time()\n",
    "        emb = alg.fit_transform(X.transpose())\n",
    "        time_diff = time.time() - time_start\n",
    "        print(time_diff, \"seconds\")\n",
    "    \n",
    "        print(\"* plot\")\n",
    "        plt.figure()\n",
    "        plt.scatter(emb[:,0], emb[:,1], s=1)\n",
    "        plt.title(row_group)\n",
    "        plt.savefig(file_plot)\n",
    "        plt.show()\n",
    "        plt.close()\n",
    "        \n",
    "#         print(\"pickle\")\n",
    "#         pickle.dump((emb, msk), open(file, \"wb\"))\n",
    "        \n",
    "        with h5py.File(file_h5, \"w\") as f:\n",
    "            f[\"embedding\"] = emb\n",
    "            f[\"mask\"] = msk\n",
    "            f[\"time\"] = time_diff"
   ]
  },
  {
   "cell_type": "code",
   "execution_count": null,
   "metadata": {},
   "outputs": [],
   "source": []
  },
  {
   "cell_type": "code",
   "execution_count": null,
   "metadata": {},
   "outputs": [],
   "source": []
  }
 ],
 "metadata": {
  "kernelspec": {
   "display_name": "Python 3",
   "language": "python",
   "name": "python3"
  },
  "language_info": {
   "codemirror_mode": {
    "name": "ipython",
    "version": 3
   },
   "file_extension": ".py",
   "mimetype": "text/x-python",
   "name": "python",
   "nbconvert_exporter": "python",
   "pygments_lexer": "ipython3",
   "version": "3.9.1"
  },
  "toc-autonumbering": true
 },
 "nbformat": 4,
 "nbformat_minor": 4
}
