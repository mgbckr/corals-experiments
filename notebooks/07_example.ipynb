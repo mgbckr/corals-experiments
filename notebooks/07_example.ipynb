{
 "cells": [
  {
   "cell_type": "code",
   "execution_count": 1,
   "id": "10941097",
   "metadata": {},
   "outputs": [],
   "source": [
    "%load_ext autoreload\n",
    "%autoreload 2"
   ]
  },
  {
   "cell_type": "code",
   "execution_count": 2,
   "id": "89b98127",
   "metadata": {},
   "outputs": [
    {
     "name": "stdout",
     "output_type": "stream",
     "text": [
      "CPU times: user 2.2 s, sys: 5.68 s, total: 7.88 s\n",
      "Wall time: 893 ms\n"
     ]
    },
    {
     "name": "stderr",
     "output_type": "stream",
     "text": [
      "/home/mgbckr/mnt/nalab/workspaces/nalab-fastcor-final/lib-python/src/corals/threads.py:48: UserWarning: This function should be called before `numpy` or similar modules are imported.\n",
      "  warnings.warn(\"This function should be called before `numpy` or similar modules are imported.\")\n"
     ]
    }
   ],
   "source": [
    "%%time\n",
    "\n",
    "# make sure we are not oversubscribing CPUs\n",
    "# by adjusting `n_threads`, `corals.cor_matrix` can be parallelized\n",
    "from corals.threads import set_threads_for_external_libraries\n",
    "set_threads_for_external_libraries(n_threads=1)\n",
    "\n",
    "# imports\n",
    "import numpy as np\n",
    "import corals\n",
    "\n",
    "# create random data\n",
    "n_features = 20000\n",
    "n_samples = 50\n",
    "X = np.random.random((n_samples, n_features))\n"
   ]
  },
  {
   "cell_type": "code",
   "execution_count": 3,
   "id": "2683da43",
   "metadata": {},
   "outputs": [
    {
     "name": "stdout",
     "output_type": "stream",
     "text": [
      "CPU times: user 35.3 s, sys: 7min 30s, total: 8min 5s\n",
      "Wall time: 3.96 s\n"
     ]
    }
   ],
   "source": [
    "%%time\n",
    "# full correlation matrix computation\n",
    "cor_matrix = corals.cor_matrix(X)"
   ]
  },
  {
   "cell_type": "code",
   "execution_count": 4,
   "id": "255a3ead",
   "metadata": {},
   "outputs": [
    {
     "name": "stdout",
     "output_type": "stream",
     "text": [
      "CPU times: user 9.31 s, sys: 1.6 s, total: 10.9 s\n",
      "Wall time: 19.8 s\n"
     ]
    }
   ],
   "source": [
    "%%time\n",
    "# top-k correlation matrix computation using Spearman correlation and one job\n",
    "cor_topk_result = corals.cor_topk(X, spearman=True, n_jobs=8)"
   ]
  },
  {
   "cell_type": "code",
   "execution_count": 5,
   "id": "c21ab731",
   "metadata": {},
   "outputs": [
    {
     "name": "stdout",
     "output_type": "stream",
     "text": [
      "CPU times: user 12.7 s, sys: 1.7 s, total: 14.4 s\n",
      "Wall time: 29.6 s\n"
     ]
    }
   ],
   "source": [
    "%%time\n",
    "# top-k differential correlation matrix computation using Spearman correlation and one job\n",
    "X1 = X\n",
    "X2 = np.random.random((n_samples, n_features))\n",
    "cor_topkdiff_result = corals.cor_topkdiff(X1, X2, spearman=True, n_jobs=8)"
   ]
  }
 ],
 "metadata": {
  "kernelspec": {
   "display_name": "fastcor",
   "language": "python",
   "name": "fastcor"
  },
  "language_info": {
   "codemirror_mode": {
    "name": "ipython",
    "version": 3
   },
   "file_extension": ".py",
   "mimetype": "text/x-python",
   "name": "python",
   "nbconvert_exporter": "python",
   "pygments_lexer": "ipython3",
   "version": "3.7.9"
  }
 },
 "nbformat": 4,
 "nbformat_minor": 5
}
