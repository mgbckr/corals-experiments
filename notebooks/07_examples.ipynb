{
 "cells": [
  {
   "cell_type": "code",
   "execution_count": 1,
   "id": "10941097",
   "metadata": {},
   "outputs": [],
   "source": [
    "%load_ext autoreload\n",
    "%autoreload 2"
   ]
  },
  {
   "cell_type": "code",
   "execution_count": 2,
   "id": "89b98127",
   "metadata": {},
   "outputs": [
    {
     "name": "stdout",
     "output_type": "stream",
     "text": [
      "CPU times: user 7.72 ms, sys: 0 ns, total: 7.72 ms\n",
      "Wall time: 6.95 ms\n"
     ]
    }
   ],
   "source": [
    "%%time\n",
    "\n",
    "# make sure we are not oversubscribing CPUs\n",
    "# by adjusting `n_threads`, `corals.cor_matrix` can be parallelized\n",
    "from corals.threads import set_threads_for_external_libraries\n",
    "set_threads_for_external_libraries(n_threads=1)"
   ]
  },
  {
   "cell_type": "markdown",
   "id": "e123ff0a-575d-4356-a7ba-6f3a988cb596",
   "metadata": {},
   "source": [
    "# Create data"
   ]
  },
  {
   "cell_type": "code",
   "execution_count": 3,
   "id": "35105d39-0201-4209-88a3-27f32e7e791c",
   "metadata": {},
   "outputs": [],
   "source": [
    "# create data\n",
    "\n",
    "# imports\n",
    "import numpy as np\n",
    "\n",
    "# create random data\n",
    "n_features = 20000\n",
    "n_samples = 50\n",
    "X = np.random.random((n_samples, n_features))"
   ]
  },
  {
   "cell_type": "markdown",
   "id": "611d8b68-5469-4666-abeb-895dbc7e7c6d",
   "metadata": {},
   "source": [
    "# Full correlation matrix"
   ]
  },
  {
   "cell_type": "code",
   "execution_count": 4,
   "id": "2683da43",
   "metadata": {},
   "outputs": [
    {
     "name": "stdout",
     "output_type": "stream",
     "text": [
      "CPU times: user 1.17 s, sys: 504 ms, total: 1.67 s\n",
      "Wall time: 1.67 s\n"
     ]
    }
   ],
   "source": [
    "%%time\n",
    "# full correlation matrix computation\n",
    "from corals.correlation.full.default import cor_full\n",
    "cor_matrix = cor_full(X)"
   ]
  },
  {
   "cell_type": "markdown",
   "id": "9d0eac34-4f80-46f7-991a-83880a08bae9",
   "metadata": {},
   "source": [
    "# Top-k correlations"
   ]
  },
  {
   "cell_type": "code",
   "execution_count": 5,
   "id": "255a3ead",
   "metadata": {},
   "outputs": [
    {
     "name": "stdout",
     "output_type": "stream",
     "text": [
      "CPU times: user 2.66 s, sys: 263 ms, total: 2.92 s\n",
      "Wall time: 7.46 s\n"
     ]
    }
   ],
   "source": [
    "%%time\n",
    "# top-k correlation matrix computation using Spearman correlation and one job\n",
    "from corals.correlation.topk.default import cor_topk\n",
    "cor_topk_result = cor_topk(X, k=0.001, correlation_type=\"spearman\", n_jobs=8)"
   ]
  },
  {
   "cell_type": "markdown",
   "id": "f5a5838f-9244-49c0-a445-56da401a6e6f",
   "metadata": {},
   "source": [
    "# Top-k correlation differences"
   ]
  },
  {
   "cell_type": "code",
   "execution_count": 6,
   "id": "c21ab731",
   "metadata": {},
   "outputs": [
    {
     "name": "stdout",
     "output_type": "stream",
     "text": [
      "CPU times: user 4.41 s, sys: 184 ms, total: 4.59 s\n",
      "Wall time: 13 s\n"
     ]
    }
   ],
   "source": [
    "%%time\n",
    "# top-k differential correlation matrix computation using Spearman correlation and one job\n",
    "from corals.correlation.topkdiff.default import cor_topkdiff\n",
    "X1 = X\n",
    "X2 = np.random.random((n_samples, n_features))\n",
    "cor_topkdiff_result = cor_topkdiff(X1, X2, k=0.001, correlation_type=\"spearman\", n_jobs=8)"
   ]
  }
 ],
 "metadata": {
  "kernelspec": {
   "display_name": "Python 3",
   "language": "python",
   "name": "python3"
  },
  "language_info": {
   "codemirror_mode": {
    "name": "ipython",
    "version": 3
   },
   "file_extension": ".py",
   "mimetype": "text/x-python",
   "name": "python",
   "nbconvert_exporter": "python",
   "pygments_lexer": "ipython3",
   "version": "3.9.1"
  }
 },
 "nbformat": 4,
 "nbformat_minor": 5
}
