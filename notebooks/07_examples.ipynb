{
 "cells": [
  {
   "cell_type": "code",
   "execution_count": 1,
   "id": "10941097",
   "metadata": {},
   "outputs": [],
   "source": [
    "%load_ext autoreload\n",
    "%autoreload 2"
   ]
  },
  {
   "cell_type": "code",
   "execution_count": 2,
   "id": "89b98127",
   "metadata": {},
   "outputs": [
    {
     "name": "stdout",
     "output_type": "stream",
     "text": [
      "CPU times: user 13.4 ms, sys: 0 ns, total: 13.4 ms\n",
      "Wall time: 17.3 ms\n"
     ]
    }
   ],
   "source": [
    "%%time\n",
    "\n",
    "# make sure we are not oversubscribing CPUs\n",
    "# by adjusting `n_threads`, `corals.cor_matrix` can be parallelized\n",
    "from corals.threads import set_threads_for_external_libraries\n",
    "set_threads_for_external_libraries(n_threads=1)"
   ]
  },
  {
   "cell_type": "markdown",
   "id": "e123ff0a-575d-4356-a7ba-6f3a988cb596",
   "metadata": {},
   "source": [
    "# Create data"
   ]
  },
  {
   "cell_type": "code",
   "execution_count": 3,
   "id": "35105d39-0201-4209-88a3-27f32e7e791c",
   "metadata": {},
   "outputs": [],
   "source": [
    "# create data\n",
    "\n",
    "# imports\n",
    "import numpy as np\n",
    "\n",
    "# create random data\n",
    "n_features = 20000\n",
    "n_samples = 50\n",
    "X = np.random.random((n_samples, n_features))"
   ]
  },
  {
   "cell_type": "markdown",
   "id": "611d8b68-5469-4666-abeb-895dbc7e7c6d",
   "metadata": {},
   "source": [
    "# Full correlation matrix"
   ]
  },
  {
   "cell_type": "code",
   "execution_count": 5,
   "id": "2683da43",
   "metadata": {},
   "outputs": [
    {
     "name": "stdout",
     "output_type": "stream",
     "text": [
      "CPU times: user 1.71 s, sys: 432 ms, total: 2.14 s\n",
      "Wall time: 2.17 s\n"
     ]
    }
   ],
   "source": [
    "%%time\n",
    "# full correlation matrix computation\n",
    "from corals.correlation.full import cor_full\n",
    "cor_matrix = cor_full(X)"
   ]
  },
  {
   "cell_type": "markdown",
   "id": "9d0eac34-4f80-46f7-991a-83880a08bae9",
   "metadata": {},
   "source": [
    "# Top-k correlations"
   ]
  },
  {
   "cell_type": "code",
   "execution_count": 6,
   "id": "255a3ead",
   "metadata": {},
   "outputs": [
    {
     "name": "stderr",
     "output_type": "stream",
     "text": [
      "/home/mgbckr/mnt/nalab/workspaces/nalab-fastcor-final/lib-python/src/corals/correlation/topk/batched/base.py:137: UserWarning: Everything fit into one batch. Parallelization could be achieved using BLAS threading.\n",
      "  \"Everything fit into one batch. Parallelization could be achieved using BLAS threading.\")\n"
     ]
    },
    {
     "name": "stdout",
     "output_type": "stream",
     "text": [
      "* prepare\n",
      "* map\n",
      "* reduce\n",
      "CPU times: user 3min 32s, sys: 7.04 s, total: 3min 39s\n",
      "Wall time: 3min 41s\n"
     ]
    }
   ],
   "source": [
    "%%time\n",
    "# top-k correlation matrix computation using Spearman correlation and one job\n",
    "from corals.correlation.topk import cor_topk\n",
    "cor_topk_result = cor_topk(X, spearman=True, n_jobs=8)"
   ]
  },
  {
   "cell_type": "markdown",
   "id": "f5a5838f-9244-49c0-a445-56da401a6e6f",
   "metadata": {},
   "source": [
    "# Top-k correlation differences"
   ]
  },
  {
   "cell_type": "code",
   "execution_count": 12,
   "id": "c21ab731",
   "metadata": {},
   "outputs": [
    {
     "name": "stdout",
     "output_type": "stream",
     "text": [
      "CPU times: user 12.9 s, sys: 1.75 s, total: 14.7 s\n",
      "Wall time: 29.9 s\n"
     ]
    }
   ],
   "source": [
    "%%time\n",
    "# top-k differential correlation matrix computation using Spearman correlation and one job\n",
    "from corals.correlation.topkdiff import cor_topkdiff\n",
    "X1 = X\n",
    "X2 = np.random.random((n_samples, n_features))\n",
    "cor_topkdiff_result = cor_topkdiff(X1, X2, correlation_type=\"spearman\", n_jobs=8)"
   ]
  },
  {
   "cell_type": "code",
   "execution_count": null,
   "id": "f9864351-a982-4788-8c1b-334ded45e802",
   "metadata": {},
   "outputs": [],
   "source": []
  }
 ],
 "metadata": {
  "kernelspec": {
   "display_name": "fastcor",
   "language": "python",
   "name": "fastcor"
  },
  "language_info": {
   "codemirror_mode": {
    "name": "ipython",
    "version": 3
   },
   "file_extension": ".py",
   "mimetype": "text/x-python",
   "name": "python",
   "nbconvert_exporter": "python",
   "pygments_lexer": "ipython3",
   "version": "3.7.9"
  }
 },
 "nbformat": 4,
 "nbformat_minor": 5
}
